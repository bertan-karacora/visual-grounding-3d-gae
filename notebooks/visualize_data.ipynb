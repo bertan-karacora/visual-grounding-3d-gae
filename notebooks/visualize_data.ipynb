{
 "cells": [
  {
   "cell_type": "code",
   "execution_count": 2,
   "id": "336c46a8",
   "metadata": {},
   "outputs": [],
   "source": [
    "from pathlib import Path\n",
    "\n",
    "PATH_DIR_DATA = \"/home/user/karacora/data\"\n",
    "NAME_DATASET = \"ScanNet\"\n",
    "NAME_SCENE = \"scene0000_00\"\n",
    "\n",
    "path_dataset = Path(PATH_DIR_DATA) / NAME_DATASET"
   ]
  },
  {
   "cell_type": "code",
   "execution_count": 4,
   "id": "ffca1227",
   "metadata": {},
   "outputs": [],
   "source": [
    "import json\n",
    "\n",
    "import numpy as np\n",
    "import torch\n",
    "import open3d as o3d\n",
    "\n",
    "\n",
    "def convert_pc_to_box(obj_pc):\n",
    "    xmin = np.min(obj_pc[:, 0])\n",
    "    ymin = np.min(obj_pc[:, 1])\n",
    "    zmin = np.min(obj_pc[:, 2])\n",
    "    xmax = np.max(obj_pc[:, 0])\n",
    "    ymax = np.max(obj_pc[:, 1])\n",
    "    zmax = np.max(obj_pc[:, 2])\n",
    "    center = [(xmin + xmax) / 2, (ymin + ymax) / 2, (zmin + zmax) / 2]\n",
    "    box_size = [xmax - xmin, ymax - ymin, zmax - zmin]\n",
    "    return center, box_size\n",
    "\n",
    "\n",
    "def load_scan(pcd_path, inst2label_path, scene_name):\n",
    "    pcd_data = torch.load(pcd_path / f\"{scene_name}.pth\", weights_only=False)\n",
    "    inst_to_label = torch.load(inst2label_path / f\"{scene_name}.pth\", weights_only=False)\n",
    "    points, colors, instance_labels = pcd_data[0], pcd_data[1], pcd_data[-1]\n",
    "    pcds = np.concatenate([points, colors], 1)\n",
    "    return points, colors, pcds, instance_labels, inst_to_label\n",
    "\n",
    "\n",
    "def visualize_one_scene(obj_pcds, points, colors, caption):\n",
    "    # visualize scene\n",
    "    o3d_pcd = o3d.geometry.PointCloud()\n",
    "    o3d_pcd.points = o3d.utility.Vector3dVector(points)\n",
    "    o3d_pcd.colors = o3d.utility.Vector3dVector(colors / 255.0)\n",
    "    # visualize gt\n",
    "    boxes = []\n",
    "    labels = []\n",
    "    for idx, (obj, obj_label) in enumerate(obj_pcds):\n",
    "        gt_center, gt_size = convert_pc_to_box(obj)\n",
    "        gt_o3d_box = o3d.geometry.OrientedBoundingBox(gt_center, np.eye(3, 3), gt_size)\n",
    "        gt_o3d_box.color = [0, 1, 0]\n",
    "        boxes.append(gt_o3d_box)\n",
    "        labels.append(obj_label)\n",
    "\n",
    "    mesh_frame = o3d.geometry.TriangleMesh.create_coordinate_frame(size=0.6, origin=[-0, -0, -0])\n",
    "    print(labels)\n",
    "    o3d.visualization.draw_geometries([o3d_pcd, *boxes, mesh_frame], window_name=caption)\n",
    "\n",
    "\n",
    "def visualize_data(save_root, scene_name, vis_obj=True):\n",
    "    inst2label_path = save_root / \"instance_id_to_label\"\n",
    "    pcd_path = save_root / \"pcd_with_global_alignment\"\n",
    "\n",
    "    points, colors, pcds, instance_labels, inst_to_label = load_scan(pcd_path, inst2label_path, scene_name)\n",
    "\n",
    "    if not vis_obj:\n",
    "        o3d_pcd = o3d.geometry.PointCloud()\n",
    "        mesh_frame = o3d.geometry.TriangleMesh.create_coordinate_frame(size=0.6, origin=[-0, -0, -0])\n",
    "        o3d_pcd.points = o3d.utility.Vector3dVector(points)\n",
    "        o3d_pcd.colors = o3d.utility.Vector3dVector(colors / 255.0)\n",
    "        o3d.visualization.draw_geometries([mesh_frame, o3d_pcd])\n",
    "        return\n",
    "\n",
    "    obj_pcds = []\n",
    "    for i in inst_to_label.keys():\n",
    "        mask = instance_labels == i  # time consuming\n",
    "        if np.sum(mask) == 0:\n",
    "            continue\n",
    "        obj_pcds.append((pcds[mask], inst_to_label[i]))\n",
    "\n",
    "    visualize_one_scene(obj_pcds, points, colors, scene_name)\n",
    "\n",
    "\n",
    "def visualize_refer(save_root, anno_file):\n",
    "    inst2label_path = save_root / \"instance_id_to_label\"\n",
    "    pcd_path = save_root / \"pcd_with_global_alignment\"\n",
    "    json_data = json.load(open(anno_file, \"r\", encoding=\"utf8\"))\n",
    "    for item in json_data:\n",
    "        scan_id = item[\"scan_id\"]\n",
    "        inst2label_path = save_root / \"instance_id_to_label\"\n",
    "        pcd_path = save_root / \"pcd_with_global_alignment\"\n",
    "\n",
    "        inst_to_label = torch.load(inst2label_path / f\"{scan_id}.pth\", weights_only=False)\n",
    "        pcd_data = torch.load(pcd_path / f\"{scan_id}.pth\", weights_only=False)\n",
    "        points, colors, instance_labels = pcd_data[0], pcd_data[1], pcd_data[-1]\n",
    "        pcds = np.concatenate([points, colors], 1)\n",
    "\n",
    "        target_id = int(item[\"target_id\"])\n",
    "        mask = instance_labels == target_id\n",
    "        if np.sum(mask) == 0:\n",
    "            continue\n",
    "\n",
    "        obj_pcds = [(pcds[mask], inst_to_label[target_id])]\n",
    "        visualize_one_scene(obj_pcds, points, colors, scan_id + \"-\" + item[\"utterance\"])"
   ]
  },
  {
   "cell_type": "code",
   "execution_count": 7,
   "id": "58a5f421",
   "metadata": {},
   "outputs": [
    {
     "name": "stdout",
     "output_type": "stream",
     "text": [
      "['window', 'window', 'table', 'kitchen counter', 'shower', 'curtain', 'curtain', 'desk', 'cabinet', 'floor', 'sink', 'scale', 'trash can', 'trash can', 'trash can', 'tv', 'pillow', 'clock', 'backpack', 'wall', 'wall', 'wall', 'wall', 'wall', 'wall', 'wall', 'wall', 'wall', 'stool', 'stool', 'stool', 'stool', 'couch', 'refrigerator', 'coffee table', 'table', 'toilet', 'bed', 'cabinet', 'cabinet', 'kitchen cabinets', 'cabinet', 'cabinet', 'kitchen cabinets', 'object', 'toaster oven', 'laundry basket', 'guitar', 'tissue box', 'nightstand', 'nightstand', 'dish rack', 'microwave', 'toaster', 'door', 'ceiling', 'shelf', 'bicycle', 'shoes', 'object', 'object', 'object', 'object', 'doorframe', 'mirror', 'doorframe', 'guitar case']\n"
     ]
    },
    {
     "name": "stderr",
     "output_type": "stream",
     "text": [
      "error: XDG_RUNTIME_DIR not set in the environment.\n"
     ]
    },
    {
     "ename": "KeyboardInterrupt",
     "evalue": "",
     "output_type": "error",
     "traceback": [
      "\u001b[0;31m---------------------------------------------------------------------------\u001b[0m",
      "\u001b[0;31mKeyboardInterrupt\u001b[0m                         Traceback (most recent call last)",
      "Cell \u001b[0;32mIn[7], line 1\u001b[0m\n\u001b[0;32m----> 1\u001b[0m \u001b[43mvisualize_data\u001b[49m\u001b[43m(\u001b[49m\u001b[43mpath_dataset\u001b[49m\u001b[43m \u001b[49m\u001b[38;5;241;43m/\u001b[39;49m\u001b[43m \u001b[49m\u001b[38;5;124;43m\"\u001b[39;49m\u001b[38;5;124;43mscan_data\u001b[39;49m\u001b[38;5;124;43m\"\u001b[39;49m\u001b[43m,\u001b[49m\u001b[43m \u001b[49m\u001b[43mscene_name\u001b[49m\u001b[38;5;241;43m=\u001b[39;49m\u001b[43mNAME_SCENE\u001b[49m\u001b[43m)\u001b[49m\n",
      "Cell \u001b[0;32mIn[4], line 69\u001b[0m, in \u001b[0;36mvisualize_data\u001b[0;34m(save_root, scene_name, vis_obj)\u001b[0m\n\u001b[1;32m     66\u001b[0m         \u001b[38;5;28;01mcontinue\u001b[39;00m\n\u001b[1;32m     67\u001b[0m     obj_pcds\u001b[38;5;241m.\u001b[39mappend((pcds[mask], inst_to_label[i]))\n\u001b[0;32m---> 69\u001b[0m \u001b[43mvisualize_one_scene\u001b[49m\u001b[43m(\u001b[49m\u001b[43mobj_pcds\u001b[49m\u001b[43m,\u001b[49m\u001b[43m \u001b[49m\u001b[43mpoints\u001b[49m\u001b[43m,\u001b[49m\u001b[43m \u001b[49m\u001b[43mcolors\u001b[49m\u001b[43m,\u001b[49m\u001b[43m \u001b[49m\u001b[43mscene_name\u001b[49m\u001b[43m)\u001b[49m\n",
      "Cell \u001b[0;32mIn[4], line 45\u001b[0m, in \u001b[0;36mvisualize_one_scene\u001b[0;34m(obj_pcds, points, colors, caption)\u001b[0m\n\u001b[1;32m     43\u001b[0m mesh_frame \u001b[38;5;241m=\u001b[39m o3d\u001b[38;5;241m.\u001b[39mgeometry\u001b[38;5;241m.\u001b[39mTriangleMesh\u001b[38;5;241m.\u001b[39mcreate_coordinate_frame(size\u001b[38;5;241m=\u001b[39m\u001b[38;5;241m0.6\u001b[39m, origin\u001b[38;5;241m=\u001b[39m[\u001b[38;5;241m-\u001b[39m\u001b[38;5;241m0\u001b[39m, \u001b[38;5;241m-\u001b[39m\u001b[38;5;241m0\u001b[39m, \u001b[38;5;241m-\u001b[39m\u001b[38;5;241m0\u001b[39m])\n\u001b[1;32m     44\u001b[0m \u001b[38;5;28mprint\u001b[39m(labels)\n\u001b[0;32m---> 45\u001b[0m \u001b[43mo3d\u001b[49m\u001b[38;5;241;43m.\u001b[39;49m\u001b[43mvisualization\u001b[49m\u001b[38;5;241;43m.\u001b[39;49m\u001b[43mdraw_geometries\u001b[49m\u001b[43m(\u001b[49m\u001b[43m[\u001b[49m\u001b[43mo3d_pcd\u001b[49m\u001b[43m,\u001b[49m\u001b[43m \u001b[49m\u001b[38;5;241;43m*\u001b[39;49m\u001b[43mboxes\u001b[49m\u001b[43m,\u001b[49m\u001b[43m \u001b[49m\u001b[43mmesh_frame\u001b[49m\u001b[43m]\u001b[49m\u001b[43m,\u001b[49m\u001b[43m \u001b[49m\u001b[43mwindow_name\u001b[49m\u001b[38;5;241;43m=\u001b[39;49m\u001b[43mcaption\u001b[49m\u001b[43m)\u001b[49m\n",
      "\u001b[0;31mKeyboardInterrupt\u001b[0m: "
     ]
    }
   ],
   "source": [
    "visualize_data(path_dataset / \"scan_data\", scene_name=NAME_SCENE)"
   ]
  },
  {
   "cell_type": "code",
   "execution_count": null,
   "id": "9678e20c",
   "metadata": {},
   "outputs": [],
   "source": [
    "visualize_refer(path_dataset / \"scan_data\", anno_file=path_dataset / \"annotations/refer\" / \"\")"
   ]
  }
 ],
 "metadata": {
  "kernelspec": {
   "display_name": "Python 3 (ipykernel)",
   "language": "python",
   "name": "python3"
  },
  "language_info": {
   "codemirror_mode": {
    "name": "ipython",
    "version": 3
   },
   "file_extension": ".py",
   "mimetype": "text/x-python",
   "name": "python",
   "nbconvert_exporter": "python",
   "pygments_lexer": "ipython3",
   "version": "3.10.12"
  }
 },
 "nbformat": 4,
 "nbformat_minor": 5
}
