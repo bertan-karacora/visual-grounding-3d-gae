{
 "cells": [
  {
   "cell_type": "code",
   "execution_count": 11,
   "id": "f70f7270",
   "metadata": {},
   "outputs": [],
   "source": [
    "import seaborn as sb\n",
    "import torch\n",
    "import torch.nn as nn\n",
    "from torch.autograd import Variable\n",
    "from scipy.optimize import linear_sum_assignment\n",
    "import scipy\n",
    "import scipy.optimize\n",
    "import numpy as np\n",
    "from sklearn.decomposition import PCA\n",
    "from sklearn.preprocessing import StandardScaler\n",
    "import pandas as pd\n",
    "from torch.utils.data import Dataset\n",
    "import matplotlib.pyplot as plt\n",
    "from sklearn.cluster import KMeans\n",
    "import sklearn as sk\n",
    "import networkx as nx\n",
    "\n",
    "\n",
    "class FocalLoss(nn.Module):\n",
    "    r\"\"\"\n",
    "    This criterion is a implemenation of Focal Loss, which is proposed in\n",
    "    Focal Loss for Dense Object Detection.\n",
    "\n",
    "        Loss(x, class) = - \\alpha (1-softmax(x)[class])^gamma \\log(softmax(x)[class])\n",
    "\n",
    "    The losses are averaged across observations for each minibatch.\n",
    "\n",
    "    Args:\n",
    "        alpha(1D Tensor, Variable) : the scalar factor for this criterion\n",
    "        gamma(float, double) : gamma > 0; reduces the relative loss for well-classiﬁed examples (p > .5),\n",
    "                               putting more focus on hard, misclassiﬁed examples\n",
    "        size_average(bool): By default, the losses are averaged over observations for each minibatch.\n",
    "                            However, if the field size_average is set to False, the losses are\n",
    "                            instead summed for each minibatch.\n",
    "\n",
    "\n",
    "    \"\"\"\n",
    "\n",
    "    def __init__(self, class_num, alpha=None, gamma=2, size_average=True):\n",
    "        super(FocalLoss, self).__init__()\n",
    "        if alpha is None:\n",
    "            self.alpha = Variable(torch.ones(class_num, 1))\n",
    "        else:\n",
    "            if isinstance(alpha, Variable):\n",
    "                self.alpha = alpha\n",
    "            else:\n",
    "                self.alpha = Variable(alpha)\n",
    "        self.gamma = gamma\n",
    "        self.class_num = class_num\n",
    "        self.size_average = size_average\n",
    "\n",
    "    def forward(self, inputs, targets):\n",
    "        N = inputs.size(0)\n",
    "        C = inputs.size(1)\n",
    "        # P = F.softmax(inputs)\n",
    "        P = inputs\n",
    "\n",
    "        class_mask = inputs.data.new(N, C).fill_(0)\n",
    "        class_mask = Variable(class_mask)\n",
    "        ids = targets.view(-1, 1)\n",
    "        class_mask.scatter_(1, ids.data, 1.0)\n",
    "        # print(class_mask)\n",
    "\n",
    "        if inputs.is_cuda and not self.alpha.is_cuda:\n",
    "            self.alpha = self.alpha.cuda()\n",
    "        alpha = self.alpha[ids.data.view(-1)]\n",
    "\n",
    "        probs = (P * class_mask).sum(1).view(-1, 1)\n",
    "\n",
    "        log_p = probs.log()\n",
    "        # print('probs size= {}'.format(probs.size()))\n",
    "        # print(probs)\n",
    "\n",
    "        batch_loss = -alpha * (torch.pow((1 - probs), self.gamma)) * log_p\n",
    "        # print('-----bacth_loss------')\n",
    "        # print(batch_loss)\n",
    "\n",
    "        if self.size_average:\n",
    "            loss = batch_loss.mean()\n",
    "        else:\n",
    "            loss = batch_loss.sum()\n",
    "        return loss\n",
    "\n",
    "\n",
    "class HungarianLoss:\n",
    "    def __init__(self, predictions, targets, mask):\n",
    "        self.predictions = predictions\n",
    "        self.targets = targets\n",
    "        self.mask = mask\n",
    "\n",
    "    def outer(self, a, b=None):\n",
    "        if b is None:\n",
    "            b = a\n",
    "        size_a = tuple(a.size()) + (b.size()[-1],)\n",
    "        size_b = tuple(b.size()) + (a.size()[-1],)\n",
    "        a = a.unsqueeze(dim=-1).expand(*size_a)\n",
    "        b = b.unsqueeze(dim=-2).expand(*size_b)\n",
    "        return a, b\n",
    "\n",
    "    def per_sample_hungarian_loss(self, sample_np):\n",
    "        row_idx, col_idx = scipy.optimize.linear_sum_assignment(sample_np)\n",
    "        return row_idx, col_idx\n",
    "\n",
    "    def hungarian_loss(self):\n",
    "        # predictions and targets shape :: (n, c, s)\n",
    "        predictions = self.predictions[: self.mask, :]\n",
    "        targets = self.targets[: self.mask, :]\n",
    "        predictions = predictions.permute(0, 2, 1)\n",
    "        targets = targets.permute(0, 2, 1)\n",
    "        predictions, targets = self.outer(predictions, targets)\n",
    "        # squared_error shape :: (n, s, s)\n",
    "        squared_error = (predictions - targets).pow(2).mean(1)\n",
    "\n",
    "        squared_error_np = squared_error.detach().cpu().numpy()\n",
    "        indices = [self.per_sample_hungarian_loss(x) for x in squared_error_np]\n",
    "        losses = [sample[row_idx, col_idx].mean() for sample, (row_idx, col_idx) in zip(squared_error, indices)]\n",
    "        total_loss = torch.mean(torch.stack(list(losses)))\n",
    "        return total_loss\n",
    "\n",
    "\n",
    "# Chamfer Loss, a more native and effecient loss calculation\n",
    "def chamfer_loss(predictions, targets, mask):\n",
    "    if mask == 0:\n",
    "        return 0\n",
    "    predictions = predictions[:, :mask, :]\n",
    "    targets = targets[:, :mask, :]\n",
    "    # predictions and targets shape :: (n, c, s)\n",
    "    predictions, targets = outer(predictions, targets)\n",
    "    # squared_error shape :: (n, s, s)\n",
    "    squared_error = (predictions - targets).pow(2).mean(1)\n",
    "    loss = squared_error.min(1)[0] + squared_error.min(2)[0]\n",
    "    return loss.mean()\n",
    "\n",
    "\n",
    "def outer(a, b=None):\n",
    "    if b is None:\n",
    "        b = a\n",
    "    size_a = tuple(a.size()) + (b.size()[-1],)\n",
    "    size_b = tuple(b.size()) + (a.size()[-1],)\n",
    "    a = a.unsqueeze(dim=-1).expand(*size_a)\n",
    "    b = b.unsqueeze(dim=-2).expand(*size_b)\n",
    "    return a, b\n",
    "\n",
    "\n",
    "def per_sample_hungarian_loss(sample_np):\n",
    "    sample_np[sample_np == np.inf] = 0\n",
    "    row_idx, col_idx = scipy.optimize.linear_sum_assignment(sample_np)\n",
    "    return row_idx, col_idx\n",
    "\n",
    "\n",
    "## Two implementation for hungarian_loss (hungarian matching)\n",
    "def hungarian_loss1(boxesA, boxesB, mask, maximize=True):\n",
    "    # print(mask)\n",
    "    boxesA = boxesA[:mask, :]\n",
    "    boxesB = boxesB[:mask, :]\n",
    "    n = max(len(boxesA), len(boxesB))\n",
    "    cost_matrix = torch.zeros((n, n))\n",
    "    # print(n)\n",
    "\n",
    "    for i, boxA in enumerate(boxesA):\n",
    "        for j, boxB in enumerate(boxesB):\n",
    "            if boxA is None or boxB is None:\n",
    "                cost_matrix[i, j] = int(not maximize)\n",
    "            else:\n",
    "                cost_matrix[i, j] = torch.norm(boxA - boxB)\n",
    "    cost_matrix = cost_matrix.detach().cpu().numpy()\n",
    "    row_ind, col_ind = linear_sum_assignment(cost_matrix, maximize=maximize)\n",
    "    return torch.mean(torch.FloatTensor(cost_matrix[row_ind, col_ind]))\n",
    "\n",
    "\n",
    "def hungarian_loss(predictions, targets, mask):\n",
    "    # predictions and targets shape :: (n, c, s)\n",
    "    predictions = predictions[:, :mask, :]\n",
    "    targets = targets[:, :mask, :]\n",
    "    predictions = predictions.permute(0, 2, 1)\n",
    "    targets = targets.permute(0, 2, 1)\n",
    "    predictions, targets = outer(predictions, targets)\n",
    "    # squared_error shape :: (n, s, s)\n",
    "    squared_error = torch.sqrt((predictions - targets).pow(2).mean(1))\n",
    "    squared_error_np = squared_error.detach().cpu().numpy()\n",
    "    indices = [per_sample_hungarian_loss(x) for x in squared_error_np]\n",
    "    # print(indices)\n",
    "    losses = [sample[row_idx, col_idx].mean() for sample, (row_idx, col_idx) in zip(squared_error, indices)]\n",
    "    total_loss = torch.mean(torch.stack(list(losses)))\n",
    "    return total_loss, indices[0][1]\n",
    "\n",
    "\n",
    "class NodeClassificationDataset(Dataset):\n",
    "    def __init__(self, node_embeddings, labels):\n",
    "        self.len = node_embeddings.shape[0]\n",
    "        self.x_data = node_embeddings\n",
    "        self.y_data = labels.long()\n",
    "\n",
    "    def __getitem__(self, index):\n",
    "        return self.x_data[index], self.y_data[index]\n",
    "\n",
    "    def __len__(self):\n",
    "        return self.len\n",
    "\n",
    "\n",
    "def cluster_graph(role_id, node_embeddings):\n",
    "    colors = role_id\n",
    "    nb_clust = len(np.unique(role_id))\n",
    "    pca = PCA(n_components=5)\n",
    "    trans_data = pca.fit_transform(StandardScaler().fit_transform(node_embeddings.cpu().detach()))\n",
    "    km = KMeans(n_clusters=nb_clust)\n",
    "    km.fit(trans_data)\n",
    "    labels_pred = km.labels_\n",
    "\n",
    "    ######## Params for plotting\n",
    "    cmapx = plt.get_cmap(\"rainbow\")\n",
    "    x = np.linspace(0, 1, nb_clust + 1)\n",
    "    col = [cmapx(xx) for xx in x]\n",
    "    markers = {0: \"*\", 1: \".\", 2: \",\", 3: \"o\", 4: \"v\", 5: \"^\", 6: \"<\", 7: \">\", 8: 3, 9: \"d\", 10: \"+\", 11: \"x\", 12: \"D\", 13: \"|\", 14: \"_\", 15: 4, 16: 0, 17: 1, 18: 2, 19: 6, 20: 7}\n",
    "\n",
    "    for c in np.unique(role_id):\n",
    "        indc = [i for i, x in enumerate(role_id) if x == c]\n",
    "        plt.scatter(trans_data[indc, 0], trans_data[indc, 1], c=np.array(col)[list(np.array(labels_pred)[indc])], marker=markers[c % len(markers)], s=300)\n",
    "\n",
    "    labels = role_id\n",
    "    for label, c, x, y in zip(labels, labels_pred, trans_data[:, 0], trans_data[:, 1]):\n",
    "        plt.annotate(label, xy=(x, y), xytext=(0, 0), textcoords=\"offset points\")\n",
    "    # plt.show()\n",
    "    return labels_pred, colors, trans_data, nb_clust\n",
    "\n",
    "\n",
    "def unsupervised_evaluate(colors, labels_pred, trans_data, nb_clust):\n",
    "    ami = sk.metrics.adjusted_mutual_info_score(colors, labels_pred)\n",
    "    sil = sk.metrics.silhouette_score(trans_data, labels_pred, metric=\"euclidean\")\n",
    "    ch = sk.metrics.calinski_harabasz_score(trans_data, labels_pred)\n",
    "    hom = sk.metrics.homogeneity_score(colors, labels_pred)\n",
    "    comp = sk.metrics.completeness_score(colors, labels_pred)\n",
    "    # print('Homogeneity \\t Completeness \\t AMI \\t nb clusters \\t CH \\t  Silhouette \\n')\n",
    "    # print(str(hom) + '\\t' + str(comp) + '\\t' + str(ami) + '\\t' + str(nb_clust) + '\\t' + str(ch) + '\\t' + str(sil))\n",
    "    return hom, comp, ami, nb_clust, ch, sil\n",
    "\n",
    "\n",
    "def draw_pca(role_id, node_embeddings, coloring):\n",
    "    pca = PCA(n_components=2)\n",
    "    node_embedded = StandardScaler().fit_transform(node_embeddings.cpu().detach())\n",
    "    principalComponents = pca.fit_transform(node_embedded)\n",
    "    principalDf = pd.DataFrame(data=principalComponents, columns=[\"principal component 1\", \"principal component 2\"])\n",
    "    principalDf[\"target\"] = role_id\n",
    "    fig = plt.figure(figsize=(8, 8))\n",
    "    ax = fig.add_subplot(1, 1, 1)\n",
    "    ax.set_xlabel(\"Principal Component 1\", fontsize=15)\n",
    "    ax.set_ylabel(\"Principal Component 2\", fontsize=15)\n",
    "    ax.set_title(\"2 PCA Components\", fontsize=20)\n",
    "    targets = np.unique(role_id)\n",
    "    for target in zip(targets):\n",
    "        color = coloring[target[0]]\n",
    "        indicesToKeep = principalDf[\"target\"] == target\n",
    "        ax.scatter(principalDf.loc[indicesToKeep, \"principal component 1\"], principalDf.loc[indicesToKeep, \"principal component 2\"], s=50, c=color)\n",
    "    ax.legend(targets)\n",
    "    ax.grid()\n",
    "    plt.show()\n",
    "\n",
    "\n",
    "def graph_generator(width_basis=15, basis_type=\"cycle\", n_shapes=5, shape_list=[[[\"house\"]]], identifier=\"AA\", add_edges=0):\n",
    "    ################################### EXAMPLE TO BUILD A SIMPLE REGULAR STRUCTURE ##########\n",
    "    ## REGULAR STRUCTURE: the most simple structure:  basis + n small patterns of a single type\n",
    "    ### 1. Choose the basis (cycle, torus or chain)\n",
    "    ### 2. Add the shapes\n",
    "    list_shapes = []\n",
    "    for shape in shape_list:\n",
    "        list_shapes += shape * n_shapes\n",
    "    print(list_shapes)\n",
    "\n",
    "    ### 3. Give a name to the graph\n",
    "    name_graph = \"houses\" + identifier\n",
    "    sb.set_style(\"white\")\n",
    "\n",
    "    ### 4. Pass all these parameters to the Graph Structure\n",
    "    G, communities, plugins, role_id = build_graph.build_structure(width_basis, basis_type, list_shapes, start=0, add_random_edges=add_edges, plot=True, savefig=False)\n",
    "    return G, role_id\n",
    "\n",
    "\n",
    "def average(lst):\n",
    "    return sum(lst) / len(lst)\n",
    "\n",
    "\n",
    "def write_graph2edgelist(G, role_id, filename):\n",
    "    nx.write_edgelist(G, \"{}.edgelist\".format(filename), data=False)\n",
    "    with open(\"{}.roleid\".format(filename), \"w\") as f:\n",
    "        for id in role_id:\n",
    "            f.write(str(id) + \"\\n\")\n",
    "\n",
    "\n",
    "def set_pca(pca, embeddings):\n",
    "    node_embedded = StandardScaler().fit_transform(embeddings)\n",
    "    pca.fit(node_embedded)\n",
    "    return pca"
   ]
  },
  {
   "cell_type": "code",
   "execution_count": 12,
   "id": "2f986154",
   "metadata": {},
   "outputs": [],
   "source": [
    "import torch\n",
    "import torch.nn as nn\n",
    "import torch.nn.functional as F\n",
    "\n",
    "\n",
    "# MLP with linear outputs (without softmax)\n",
    "class MLP(nn.Module):\n",
    "    def __init__(self, num_layers, input_dim, hidden_dim, output_dim):\n",
    "        \"\"\"\n",
    "        num_layers: number of layers in the neural networks (EXCLUDING the input layer). If num_layers=1, this reduces to linear model.\n",
    "        input_dim: dimensionality of input features\n",
    "        hidden_dim: dimensionality of hidden units at ALL layers\n",
    "        output_dim: number of classes for prediction\n",
    "        device: which device to use\n",
    "        \"\"\"\n",
    "\n",
    "        super(MLP, self).__init__()\n",
    "\n",
    "        self.linear_or_not = True  # default is linear model\n",
    "        self.num_layers = num_layers\n",
    "\n",
    "        if num_layers < 1:\n",
    "            raise ValueError(\"number of layers should be positive!\")\n",
    "        elif num_layers == 1:\n",
    "            # Linear model\n",
    "            self.linear = nn.Linear(input_dim, output_dim)\n",
    "        else:\n",
    "            # Multi-layer model\n",
    "            self.linear_or_not = False\n",
    "            self.linears = torch.nn.ModuleList()\n",
    "            self.batch_norms = torch.nn.ModuleList()\n",
    "\n",
    "            self.linears.append(nn.Linear(input_dim, hidden_dim))\n",
    "            for layer in range(num_layers - 2):\n",
    "                self.linears.append(nn.Linear(hidden_dim, hidden_dim))\n",
    "            self.linears.append(nn.Linear(hidden_dim, output_dim))\n",
    "\n",
    "            for layer in range(num_layers - 1):\n",
    "                self.batch_norms.append(nn.BatchNorm1d((hidden_dim)))\n",
    "\n",
    "    def forward(self, x):\n",
    "        if self.linear_or_not:\n",
    "            # If linear model\n",
    "            return self.linear(x)\n",
    "        else:\n",
    "            # If MLP\n",
    "            h = x\n",
    "            for layer in range(self.num_layers - 1):\n",
    "                h = F.relu(self.batch_norms[layer](self.linears[layer](h)))\n",
    "            return self.linears[self.num_layers - 1](h)\n",
    "\n",
    "\n",
    "class MLP_generator(nn.Module):\n",
    "    def __init__(self, input_dim, output_dim, sample_size):\n",
    "        super(MLP_generator, self).__init__()\n",
    "        self.linear = nn.Linear(input_dim, output_dim)\n",
    "        self.linear2 = nn.Linear(output_dim, output_dim)\n",
    "        self.linear3 = nn.Linear(output_dim, output_dim)\n",
    "        self.linear4 = nn.Linear(output_dim, output_dim)\n",
    "\n",
    "    def forward(self, embedding, device):\n",
    "        neighbor_embedding = F.relu(self.linear(embedding))\n",
    "        neighbor_embedding = F.relu(self.linear2(neighbor_embedding))\n",
    "        neighbor_embedding = F.relu(self.linear3(neighbor_embedding))\n",
    "        neighbor_embedding = self.linear4(neighbor_embedding)\n",
    "        return neighbor_embedding\n",
    "\n",
    "\n",
    "class PairNorm(nn.Module):\n",
    "    def __init__(self, mode=\"PN\", scale=10):\n",
    "        \"\"\"\n",
    "        mode:\n",
    "          'None' : No normalization\n",
    "          'PN'   : Original version\n",
    "          'PN-SI'  : Scale-Individually version\n",
    "          'PN-SCS' : Scale-and-Center-Simultaneously version\n",
    "\n",
    "        ('SCS'-mode is not in the paper but we found it works well in practice,\n",
    "          especially for GCN and GAT.)\n",
    "        PairNorm is typically used after each graph convolution operation.\n",
    "        \"\"\"\n",
    "        assert mode in [\"None\", \"PN\", \"PN-SI\", \"PN-SCS\"]\n",
    "        super(PairNorm, self).__init__()\n",
    "        self.mode = mode\n",
    "        self.scale = scale\n",
    "\n",
    "        # Scale can be set based on origina data, and also the current feature lengths.\n",
    "        # We leave the experiments to future. A good pool we used for choosing scale:\n",
    "        # [0.1, 1, 10, 50, 100]\n",
    "\n",
    "    def forward(self, x):\n",
    "        if self.mode == \"None\":\n",
    "            return x\n",
    "        col_mean = x.mean(dim=0)\n",
    "        if self.mode == \"PN\":\n",
    "            x = x - col_mean\n",
    "            rownorm_mean = (1e-6 + x.pow(2).sum(dim=1).mean()).sqrt()\n",
    "            x = self.scale * x / rownorm_mean\n",
    "        if self.mode == \"PN-SI\":\n",
    "            x = x - col_mean\n",
    "            rownorm_individual = (1e-6 + x.pow(2).sum(dim=1, keepdim=True)).sqrt()\n",
    "            x = self.scale * x / rownorm_individual\n",
    "        if self.mode == \"PN-SCS\":\n",
    "            rownorm_individual = (1e-6 + x.pow(2).sum(dim=1, keepdim=True)).sqrt()\n",
    "            x = self.scale * x / rownorm_individual - col_mean\n",
    "        return x\n",
    "\n",
    "\n",
    "# FNN\n",
    "class FNN(nn.Module):\n",
    "    def __init__(self, in_features, hidden, out_features, layer_num):\n",
    "        super(FNN, self).__init__()\n",
    "        self.linear1 = MLP(layer_num, in_features, hidden, out_features)\n",
    "        self.linear2 = nn.Linear(out_features, out_features)\n",
    "\n",
    "    def forward(self, embedding):\n",
    "        x = self.linear1(embedding)\n",
    "        x = self.linear2(F.relu(x))\n",
    "        return x"
   ]
  },
  {
   "cell_type": "code",
   "execution_count": 97,
   "id": "d12ffe15",
   "metadata": {},
   "outputs": [],
   "source": [
    "import torch\n",
    "import torch.nn as nn\n",
    "import torch.nn.functional as F\n",
    "from torch_geometric.nn import GINConv, GCNConv, SAGEConv\n",
    "import random\n",
    "import math\n",
    "\n",
    "\n",
    "# generate ground truth neighbors Hv\n",
    "def generate_gt_neighbor(neighbor_dict, node_embeddings, neighbor_num_list, in_dim):\n",
    "    max_neighbor_num = max(neighbor_num_list)\n",
    "    all_gt_neighbor_embeddings = []\n",
    "    for i, embedding in enumerate(node_embeddings):\n",
    "        neighbor_indexes = neighbor_dict[i]\n",
    "        neighbor_embeddings = []\n",
    "        for index in neighbor_indexes:\n",
    "            neighbor_embeddings.append(node_embeddings[index].tolist())\n",
    "        if len(neighbor_embeddings) < max_neighbor_num:\n",
    "            for _ in range(max_neighbor_num - len(neighbor_embeddings)):\n",
    "                neighbor_embeddings.append(torch.zeros(in_dim).tolist())\n",
    "        all_gt_neighbor_embeddings.append(neighbor_embeddings)\n",
    "    return all_gt_neighbor_embeddings\n",
    "\n",
    "\n",
    "# Main Autoencoder structure here\n",
    "class GNNStructEncoder(nn.Module):\n",
    "    def __init__(self, in_dim, hidden_dim, layer_num, sample_size, device, neighbor_num_list, GNN_name=\"GIN\", norm_mode=\"PN-SCS\", norm_scale=20, lambda_loss1=0.0001, lambda_loss2=1):\n",
    "        \"\"\"\n",
    "        Main Autoencoder structure\n",
    "        INPUT:\n",
    "        -----------------------\n",
    "        in_dim    :    input graph feature dimension\n",
    "        hidden_dim     :   latent variable feature dimension\n",
    "        layer_num    :    GIN encoder, number of MLP layer\n",
    "        sample_size     :    number of neighbors sampled\n",
    "        device     :   CPU or GPU\n",
    "        neighbor_num_list    :    number of neighbors for a specific node\n",
    "        norm   :   Pair Norm from https://openreview.net/forum?id=rkecl1rtwB\n",
    "        lambda_loss    :   Trade-off between degree loss and neighborhood reconstruction loss\n",
    "        \"\"\"\n",
    "        super(GNNStructEncoder, self).__init__()\n",
    "        self.norm = PairNorm(norm_mode, norm_scale)\n",
    "        self.out_dim = hidden_dim\n",
    "        self.lambda_loss1 = lambda_loss1\n",
    "        self.lambda_loss2 = lambda_loss2\n",
    "        # GNN Encoder\n",
    "        if GNN_name == \"GIN\":\n",
    "            self.linear1 = MLP(layer_num, in_dim, hidden_dim, hidden_dim)\n",
    "            self.graphconv1 = GINConv(nn=self.linear1)\n",
    "\n",
    "            self.linear2 = MLP(layer_num, hidden_dim, hidden_dim, hidden_dim)\n",
    "            self.graphconv2 = GINConv(nn=self.linear2)\n",
    "\n",
    "            self.linear3 = MLP(layer_num, hidden_dim, hidden_dim, hidden_dim)\n",
    "            self.graphconv3 = GINConv(nn=self.linear3)\n",
    "\n",
    "            self.linear4 = MLP(layer_num, hidden_dim, hidden_dim, hidden_dim)\n",
    "            self.graphconv4 = GINConv(nn=self.linear4)\n",
    "\n",
    "        elif GNN_name == \"GCN\":\n",
    "            self.graphconv1 = GCNConv(in_dim, hidden_dim)\n",
    "            self.graphconv2 = GCNConv(hidden_dim, hidden_dim)\n",
    "            self.graphconv3 = GCNConv(hidden_dim, hidden_dim)\n",
    "            self.graphconv4 = GCNConv(hidden_dim, hidden_dim)\n",
    "\n",
    "        else:  # SAGE\n",
    "            self.graphconv1 = SAGEConv(in_dim, hidden_dim, aggr=\"mean\")\n",
    "            self.graphconv2 = SAGEConv(hidden_dim, hidden_dim, aggr=\"mean\")\n",
    "            self.graphconv3 = SAGEConv(hidden_dim, hidden_dim, aggr=\"mean\")\n",
    "            self.graphconv4 = SAGEConv(hidden_dim, hidden_dim, aggr=\"mean\")\n",
    "\n",
    "        self.neighbor_num_list = neighbor_num_list\n",
    "        self.neighbor_generator = MLP_generator(hidden_dim, hidden_dim, sample_size).to(device)\n",
    "\n",
    "        self.gaussian_mean = nn.Parameter(torch.FloatTensor(sample_size, hidden_dim).uniform_(-0.5 / hidden_dim, 0.5 / hidden_dim)).to(device)\n",
    "        self.gaussian_log_sigma = nn.Parameter(torch.FloatTensor(sample_size, hidden_dim).uniform_(-0.5 / hidden_dim, 0.5 / hidden_dim)).to(device)\n",
    "        self.m = torch.distributions.Normal(torch.zeros(sample_size, hidden_dim), torch.ones(sample_size, hidden_dim))\n",
    "\n",
    "        self.m_h = torch.distributions.Normal(torch.zeros(sample_size, hidden_dim), 50 * torch.ones(sample_size, hidden_dim))\n",
    "\n",
    "        # Before MLP Gaussian Means, and std\n",
    "\n",
    "        self.mlp_gaussian_mean = nn.Parameter(torch.FloatTensor(hidden_dim).uniform_(-0.5 / hidden_dim, 0.5 / hidden_dim)).to(device)\n",
    "        self.mlp_gaussian_log_sigma = nn.Parameter(torch.FloatTensor(hidden_dim).uniform_(-0.5 / hidden_dim, 0.5 / hidden_dim)).to(device)\n",
    "        self.mlp_m = torch.distributions.Normal(torch.zeros(hidden_dim), torch.ones(hidden_dim))\n",
    "\n",
    "        self.mlp_mean = nn.Linear(hidden_dim, hidden_dim)\n",
    "        self.mlp_sigma = nn.Linear(hidden_dim, hidden_dim)\n",
    "\n",
    "        self.layer1_generator = MLP_generator(hidden_dim, hidden_dim, sample_size)\n",
    "        self.layer2_generator = MLP_generator(hidden_dim, hidden_dim, sample_size)\n",
    "        self.layer3_generator = MLP_generator(hidden_dim, hidden_dim, sample_size)\n",
    "        self.layer4_generator = MLP_generator(hidden_dim, hidden_dim, sample_size)\n",
    "        # Decoders\n",
    "        self.degree_decoder = FNN(hidden_dim, hidden_dim, 1, 4)\n",
    "        self.feature_decoder = FNN(hidden_dim, hidden_dim, in_dim, 3)\n",
    "        # self.degree_loss_func = FocalLoss(int(max_degree_num) + 1)\n",
    "        self.degree_loss_func = nn.MSELoss()\n",
    "        self.feature_loss_func = nn.MSELoss()\n",
    "        self.in_dim = in_dim\n",
    "        self.sample_size = sample_size\n",
    "        self.init_projection = FNN(in_dim, hidden_dim, hidden_dim, 1)\n",
    "\n",
    "    def forward_encoder(self, g, h):\n",
    "        h0 = h\n",
    "        l1 = self.graphconv1(h0, g.edge_index)\n",
    "        l1_norm = torch.relu(self.norm(l1))\n",
    "        l2 = self.graphconv2(l1_norm, g.edge_index)\n",
    "        l2_norm = torch.relu(self.norm(l2))\n",
    "        l3 = self.graphconv3(l2_norm, g.edge_index)\n",
    "        l3_norm = torch.relu(self.norm(l3))\n",
    "        l4 = self.graphconv4(l3_norm, g.edge_index)\n",
    "\n",
    "        return l4, l3_norm, l2_norm, l1_norm, h0\n",
    "\n",
    "    # Sample neighbors from neighbor set, if the length of neighbor set less than sample size, then do the padding.\n",
    "    def sample_neighbors(self, indexes, neighbor_dict, gt_embeddings):\n",
    "        sampled_embeddings_list = []\n",
    "        mark_len_list = []\n",
    "        for index in indexes:\n",
    "            sampled_embeddings = []\n",
    "            neighbor_indexes = neighbor_dict[index]\n",
    "            if len(neighbor_indexes) < self.sample_size:\n",
    "                mask_len = len(neighbor_indexes)\n",
    "                sample_indexes = neighbor_indexes\n",
    "            else:\n",
    "                sample_indexes = random.sample(neighbor_indexes, self.sample_size)\n",
    "                mask_len = self.sample_size\n",
    "            for index in sample_indexes:\n",
    "                sampled_embeddings.append(gt_embeddings[index].tolist())\n",
    "            if len(sampled_embeddings) < self.sample_size:\n",
    "                for _ in range(self.sample_size - len(sampled_embeddings)):\n",
    "                    sampled_embeddings.append(torch.zeros(self.out_dim).tolist())\n",
    "            sampled_embeddings_list.append(sampled_embeddings)\n",
    "            mark_len_list.append(mask_len)\n",
    "        return sampled_embeddings_list, mark_len_list\n",
    "\n",
    "    def reconstruction_neighbors(self, FNN_generator, neighbor_indexes, neighbor_dict, from_layer, to_layer, device):\n",
    "        \"\"\"\n",
    "        Reconstruction Neighbors\n",
    "        INPUT:\n",
    "        -----------------------\n",
    "        FNN_generator    :    FNN decoder\n",
    "        neighbor_indexes     :   new neighbor indexes after hungarian matching\n",
    "        neighbor_dict    :    specific neighbors a node have\n",
    "        from_layer     :    from which layer K\n",
    "        to_layer     :   decode to which layer K-1\n",
    "        device    :    CPU or GPU\n",
    "        OUTPUT:\n",
    "        -----------------------\n",
    "        loss   :   reconstruction loss\n",
    "        new index    :   new indexes after hungarian matching\n",
    "        \"\"\"\n",
    "        local_index_loss = 0\n",
    "        sampled_embeddings_list, mark_len_list = self.sample_neighbors(neighbor_indexes, neighbor_dict, to_layer)\n",
    "        for i, neighbor_embeddings1 in enumerate(sampled_embeddings_list):\n",
    "            # Generating h^k_v, reparameterization trick\n",
    "            index = neighbor_indexes[i]\n",
    "            mask_len1 = mark_len_list[i]\n",
    "            mean = from_layer[index].repeat(self.sample_size, 1)\n",
    "            mean = self.mlp_mean(mean)\n",
    "            sigma = from_layer[index].repeat(self.sample_size, 1)\n",
    "            sigma = self.mlp_sigma(sigma)\n",
    "            std_z = self.m.sample().to(device)\n",
    "            var = mean + sigma.exp() * std_z\n",
    "            nhij = FNN_generator(var, device)\n",
    "            generated_neighbors = nhij\n",
    "            # Caculate 2-Wasserstein distance\n",
    "            sum_neighbor_norm = 0\n",
    "            # For appendix D approximate experiment\n",
    "            for indexi, generated_neighbor in enumerate(generated_neighbors):\n",
    "                sum_neighbor_norm += torch.norm(generated_neighbor) / math.sqrt(self.out_dim)\n",
    "            generated_neighbors = torch.unsqueeze(generated_neighbors, dim=0).to(device)\n",
    "            target_neighbors = torch.unsqueeze(torch.FloatTensor(neighbor_embeddings1), dim=0).to(device)\n",
    "            hun_loss, new_index = hungarian_loss(generated_neighbors, target_neighbors, mask_len1)\n",
    "            local_index_loss += hun_loss\n",
    "        return local_index_loss, new_index\n",
    "\n",
    "    def neighbor_decoder(self, gij, ground_truth_degree_matrix, g, h0, neighbor_dict, device, l3, l2, l1, h):\n",
    "        \"\"\"\n",
    "        Neighborhood information decoder\n",
    "        INPUT:\n",
    "        -----------------------\n",
    "        gij    :    encoder output\n",
    "        ground_truth_degree_matrix     :   ground truth degree information for each node as a matrix\n",
    "        g    :    graph\n",
    "        h     :    graph features\n",
    "        neighbor_dict     :   specific neighbors a node have\n",
    "        device    :    CPU or GPU\n",
    "        l3, l2, l1   :   layer K encoding generated by encoder\n",
    "        OUTPUT:\n",
    "        -----------------------\n",
    "        loss   :   degree loss + reconstruction loss\n",
    "        latent variable    :   encoder output\n",
    "        \"\"\"\n",
    "        # Degree decoder below:\n",
    "        degree_logits = self.degree_decoding(gij)\n",
    "        ground_truth_degree_matrix = torch.unsqueeze(ground_truth_degree_matrix, dim=1)\n",
    "        degree_loss = self.degree_loss_func(degree_logits, ground_truth_degree_matrix.float())\n",
    "        _, degree_masks = torch.max(degree_logits.data, dim=1)\n",
    "        h_loss = 0\n",
    "        feature_loss = 0\n",
    "        # layer 1\n",
    "        loss_list = []\n",
    "        feature_loss_list = []\n",
    "        # Sample multiple times to remove noise\n",
    "        for _ in range(3):\n",
    "            local_index_loss_sum = 0\n",
    "            indexes = []\n",
    "            features_decoded = self.feature_decoder(gij)\n",
    "            feature_losses = self.feature_loss_func(h0, features_decoded)\n",
    "            feature_loss_list.append(feature_losses)\n",
    "            for i1, embedding in enumerate(gij):\n",
    "                indexes.append(i1)\n",
    "            # Reconstruct neighbors from layer 4 -> 3 -> 2 -> 1\n",
    "            local_index_loss, new_index = self.reconstruction_neighbors(self.layer4_generator, indexes, neighbor_dict, gij, l3, device)\n",
    "            local_index_loss_sum += local_index_loss\n",
    "            local_index_loss, new_index = self.reconstruction_neighbors(self.layer3_generator, new_index, neighbor_dict, l3, l2, device)\n",
    "            local_index_loss_sum += local_index_loss\n",
    "            local_index_loss, new_index = self.reconstruction_neighbors(self.layer2_generator, new_index, neighbor_dict, l2, l1, device)\n",
    "            local_index_loss_sum += local_index_loss\n",
    "            loss_list.append(local_index_loss_sum)\n",
    "        loss_list = torch.stack(loss_list)\n",
    "        h_loss += torch.mean(loss_list)\n",
    "        feature_loss_list = torch.stack(feature_loss_list)\n",
    "        feature_loss += torch.mean(feature_loss_list)\n",
    "        loss = self.lambda_loss1 * h_loss + degree_loss * 10 + self.lambda_loss2 * feature_loss\n",
    "        return loss, self.forward_encoder(g, h)[0], features_decoded\n",
    "\n",
    "    def degree_decoding(self, node_embeddings):\n",
    "        degree_logits = F.relu(self.degree_decoder(node_embeddings))\n",
    "        return degree_logits\n",
    "\n",
    "    def forward(self, g, h, ground_truth_degree_matrix, neighbor_dict, device):\n",
    "        # Generate 1, .., k-1 layer GNN encodings\n",
    "        gij, l3, l2, l1, h0 = self.forward_encoder(g, h)\n",
    "        # Decoding and generating the latent representation by decoder, loss = degree_loss +\n",
    "        loss, hij, features_decoded = self.neighbor_decoder(gij, ground_truth_degree_matrix, g, h0, neighbor_dict, device, l3, l2, l1, h)\n",
    "        return loss, hij, features_decoded"
   ]
  },
  {
   "cell_type": "code",
   "execution_count": null,
   "id": "b728aea4",
   "metadata": {},
   "outputs": [],
   "source": [
    "import seaborn as sb\n",
    "import torch\n",
    "import matplotlib.pyplot as plt\n",
    "import numpy as np\n",
    "from sklearn.manifold import TSNE\n",
    "from tqdm import tqdm\n",
    "import torch.nn.functional as F\n",
    "import statistics\n",
    "import torch_geometric\n",
    "\n",
    "\n",
    "# Training\n",
    "def train(g, feats, in_degrees, lr, epoch, device, encoder, lambda_loss1, lambda_loss2, hidden_dim, sample_size=10):\n",
    "    \"\"\"\n",
    "    Main training function\n",
    "    INPUT:\n",
    "    -----------------------\n",
    "    g    :    graph\n",
    "    feats     :   graph features\n",
    "    lr    :    learning rate\n",
    "    epoch     :    number of training epoch\n",
    "    device     :   CPU or GPU\n",
    "    encoder    :    GCN or GIN or GraphSAGE\n",
    "    lambda_loss    :   Trade-off between degree loss and neighborhood reconstruction loss\n",
    "    hidden_dim     :   latent variable dimension\n",
    "    \"\"\"\n",
    "    # in_nodes, out_nodes = g.edges()\n",
    "    in_nodes = g.edge_index[0]\n",
    "    out_nodes = g.edge_index[1]\n",
    "\n",
    "    neighbor_dict = {}\n",
    "    for in_node, out_node in zip(in_nodes, out_nodes):\n",
    "        if in_node.item() not in neighbor_dict:\n",
    "            neighbor_dict[in_node.item()] = []\n",
    "        neighbor_dict[in_node.item()].append(out_node.item())\n",
    "\n",
    "    neighbor_num_list = []\n",
    "    for i in neighbor_dict:\n",
    "        neighbor_num_list.append(len(neighbor_dict[i]))\n",
    "    in_dim = feats.shape[1]\n",
    "    GNNModel = GNNStructEncoder(in_dim, hidden_dim, 2, sample_size, device=device, neighbor_num_list=neighbor_num_list, GNN_name=encoder, lambda_loss1=lambda_loss1, lambda_loss2=lambda_loss2)\n",
    "    GNNModel.to(device)\n",
    "    degree_params = list(map(id, GNNModel.degree_decoder.parameters()))\n",
    "    base_params = filter(lambda p: id(p) not in degree_params, GNNModel.parameters())\n",
    "\n",
    "    opt = torch.optim.Adam([{\"params\": base_params}, {\"params\": GNNModel.degree_decoder.parameters(), \"lr\": 1e-2}], lr=lr, weight_decay=0.0003)\n",
    "    for i in tqdm(range(epoch)):\n",
    "        feats = feats.to(device)\n",
    "        # g, h, ground_truth_degree_matrix, neighbor_dict, neighbor_num_list, in_dim, temp\n",
    "        # loss, node_embeddings = GNNModel(g, feats, g.in_degrees(), neighbor_dict, device=device)\n",
    "        loss, node_embeddings, decoded = GNNModel(g, feats, in_degrees, neighbor_dict, device=device)\n",
    "        opt.zero_grad()\n",
    "        loss.backward()\n",
    "        print(i, loss.item())\n",
    "        opt.step()\n",
    "    return node_embeddings.cpu().detach(), loss.item(), decoded.cpu().detach()\n",
    "\n",
    "\n",
    "# def train_synthetic_graphs(attributed=False):\n",
    "#     # attributed = True\n",
    "#     device = torch.device(\"cpu\" if torch.cuda.is_available() else \"cpu\")\n",
    "#     name_graph = \"barbell\"\n",
    "#     sb.set_style(\"white\")\n",
    "#     homs = []\n",
    "#     comps = []\n",
    "#     amis = []\n",
    "#     chs = []\n",
    "#     sils = []\n",
    "#     for test_iter in range(10):\n",
    "#         # generate synthetic graph from GraphWave graph generator\n",
    "#         G, role_id = graph_generator(width_basis=6, n_shapes=2, shape_list=[[[\"house\", 5]]], add_edges=0)\n",
    "#         print(\"nb of nodes in the graph: \", G.number_of_nodes())\n",
    "#         print(\"nb of edges in the graph: \", G.number_of_edges())\n",
    "#         # set color\n",
    "#         cmap = plt.get_cmap(\"inferno\")\n",
    "#         x_range = np.linspace(0, 0.9, len(np.unique(role_id)))\n",
    "#         coloring = {u: cmap(x_range[i]) for i, u in enumerate(np.unique(role_id))}\n",
    "#         if attributed:\n",
    "#             g = torch_geometric.utils.from_networkx(G, node_attrs=[\"attr\"])\n",
    "#             g = g.to(device)\n",
    "#             g.ndata[\"attr\"] = g.ndata[\"attr\"].float()\n",
    "#         else:\n",
    "#             g = torch_geometric.utils.from_networkx(G)\n",
    "#             one_hot_feature = F.one_hot(g.in_degrees())\n",
    "#             g.ndata[\"attr\"] = one_hot_feature.float()\n",
    "\n",
    "#         in_nodes, out_nodes = g.edges()\n",
    "#         neighbor_dict = {}\n",
    "#         for in_node, out_node in zip(in_nodes, out_nodes):\n",
    "#             if in_node.item() not in neighbor_dict:\n",
    "#                 neighbor_dict[in_node.item()] = []\n",
    "#             neighbor_dict[in_node.item()].append(out_node.item())\n",
    "#         neighbor_num_list = []\n",
    "#         for i in neighbor_dict:\n",
    "#             neighbor_num_list.append(len(neighbor_dict[i]))\n",
    "#         node_embeddings, _ = train(g, g.ndata[\"attr\"], lr=5e-3, epoch=100, device=device, encoder=\"SAGE\", lambda_loss1=1e-1, lambda_loss2=1, hidden_dim=6)\n",
    "#         node_embedded = TSNE(n_components=2).fit_transform(node_embeddings.cpu().detach().numpy())\n",
    "#         labels_pred, colors, trans_data, nb_clust = cluster_graph(role_id, node_embeddings)\n",
    "#         hom, comp, ami, nb_clust, ch, sil = unsupervised_evaluate(colors, labels_pred, trans_data, nb_clust)\n",
    "#         print(hom, comp, ami, nb_clust, ch, sil)\n",
    "#         homs.append(hom)\n",
    "#         comps.append(comp)\n",
    "#         amis.append(ami)\n",
    "#         chs.append(ch)\n",
    "#         sils.append(sil)\n",
    "#         print(\"test iter:\", str(test_iter))\n",
    "#         draw_pca(role_id, node_embeddings, coloring)\n",
    "#     print(homs)\n",
    "#     print(\"Homogeneity \\t Completeness \\t AMI \\t nb clusters \\t CH \\t  Silhouette \\n\")\n",
    "#     print(str(average(homs)), str(average(comps)), str(average(amis)), str(nb_clust), str(average(chs)), str(average(sils)))\n",
    "\n",
    "\n",
    "# def evaluate(model, embeddings, labels, mask):\n",
    "#     model.eval()\n",
    "#     with torch.no_grad():\n",
    "#         logits = model(embeddings)\n",
    "#         logits = logits[mask]\n",
    "#         labels = labels[mask]\n",
    "#         _, indices = torch.max(logits, dim=1)\n",
    "#         correct = torch.sum(indices == labels)\n",
    "#         return correct.item() * 1.0 / len(labels)\n",
    "\n",
    "\n",
    "# def train_real_datasets(dataset_str, epoch_num=10, lr=5e-6, encoder=\"GCN\", lambda_loss1=1e-4, lambda_loss2=1, sample_size=8, hidden_dim=None):\n",
    "#     gcn_setting = False\n",
    "#     device = torch.device(\"cuda\" if torch.cuda.is_available() else \"cpu\")\n",
    "#     dataset = CitationGraphDataset(dataset_str)\n",
    "#     g = dataset[0]\n",
    "#     g = g.to(device)\n",
    "#     node_features = g.ndata[\"feat\"]\n",
    "#     train_mask = g.ndata[\"train_mask\"]\n",
    "#     valid_mask = g.ndata[\"val_mask\"]\n",
    "#     test_mask = g.ndata[\"test_mask\"]\n",
    "#     node_labels = g.ndata[\"label\"]\n",
    "#     # attr, feat\n",
    "#     if hidden_dim == None:\n",
    "#         hidden_dim = node_features.shape[1]\n",
    "#     else:\n",
    "#         hidden_dim = hidden_dim\n",
    "#     acc = []\n",
    "#     for index in range(5):\n",
    "#         node_embeddings, _ = train(g, node_features, lr=lr, epoch=epoch_num, device=device, encoder=encoder, lambda_loss1=lambda_loss1, lambda_loss2=lambda_loss2, hidden_dim=hidden_dim, sample_size=sample_size)\n",
    "#         input_dims = node_embeddings.shape\n",
    "#         print(input_dims[1])\n",
    "#         class_number = int(max(node_labels)) + 1\n",
    "#         FNN = MLP(num_layers=5, input_dim=input_dims[1], hidden_dim=input_dims[1] // 2, output_dim=class_number).to(device)\n",
    "#         FNN = FNN.to(device)\n",
    "#         criterion = torch.nn.CrossEntropyLoss()\n",
    "#         optimizer = torch.optim.Adam(FNN.parameters())\n",
    "#         if gcn_setting:\n",
    "#             inputs = node_embeddings\n",
    "#             inputs = inputs.to(device)\n",
    "#             for epoch in range(50):\n",
    "#                 FNN.train()\n",
    "#                 # forward propagation by using all nodes\n",
    "#                 logits = FNN(inputs)\n",
    "#                 # compute loss\n",
    "#                 loss = criterion(logits[train_mask], node_labels[train_mask])\n",
    "#                 # compute validation accuracy\n",
    "#                 acc = evaluate(FNN, inputs, node_labels, valid_mask)\n",
    "#                 print(acc)\n",
    "#                 # backward propagation\n",
    "#                 optimizer.zero_grad()\n",
    "#                 loss.backward()\n",
    "#                 optimizer.step()\n",
    "#                 print(loss.item())\n",
    "#             acc = evaluate(FNN, inputs, node_labels, test_mask)\n",
    "#             print(acc)\n",
    "#         else:\n",
    "#             dataset = NodeClassificationDataset(node_embeddings, node_labels)\n",
    "#             split = utils.DataSplit(dataset, shuffle=True)\n",
    "#             train_loader, val_loader, test_loader = split.get_split(batch_size=64, num_workers=0)\n",
    "#             best = float(\"inf\")\n",
    "#             for epoch in range(10):\n",
    "#                 for i, data in enumerate(train_loader, 0):\n",
    "#                     # data = data.to(device)\n",
    "#                     inputs, labels = data\n",
    "#                     inputs = inputs.to(device)\n",
    "#                     labels = labels.to(device)\n",
    "#                     y_pred = FNN(inputs)\n",
    "#                     loss = criterion(y_pred, labels)\n",
    "#                     print(epoch, i, loss.item())\n",
    "#                     optimizer.zero_grad()\n",
    "#                     loss.backward()\n",
    "#                     optimizer.step()\n",
    "\n",
    "#                     with torch.no_grad():\n",
    "#                         correct = 0\n",
    "#                         total = 0\n",
    "#                         for data in val_loader:\n",
    "#                             inputs, labels = data\n",
    "#                             inputs = inputs.to(device)\n",
    "#                             labels = labels.to(device)\n",
    "#                             outputs = FNN(inputs)\n",
    "#                             _, predicted = torch.max(outputs.data, 1)\n",
    "#                             loss = criterion(outputs, labels)\n",
    "#                             total += labels.size(0)\n",
    "#                             correct += torch.sum(predicted == labels)\n",
    "#                     if loss < best:\n",
    "#                         best = loss\n",
    "#                         torch.save(FNN.state_dict(), \"best_mlp2.pkl\")\n",
    "#                     print(str(epoch), correct / total)\n",
    "\n",
    "#             with torch.no_grad():\n",
    "#                 FNN.load_state_dict(torch.load(\"best_mlp2.pkl\"))\n",
    "#                 correct = 0\n",
    "#                 total = 0\n",
    "#                 for data in test_loader:\n",
    "#                     inputs, labels = data\n",
    "#                     inputs = inputs.to(device)\n",
    "#                     labels = labels.to(device)\n",
    "#                     outputs = FNN(inputs)\n",
    "#                     _, predicted = torch.max(outputs.data, 1)\n",
    "#                     total += labels.size(0)\n",
    "#                     correct += torch.sum(predicted == labels)\n",
    "#             print((correct / total).item())\n",
    "#             acc.append((correct / total).item())\n",
    "\n",
    "\n",
    "# device = torch.device(\"cuda\" if torch.cuda.is_available() else \"cpu\")\n",
    "\n",
    "# parser = argparse.ArgumentParser(description=\"parameters\")\n",
    "# parser.add_argument(\"--dataset\", type=str, default=\"texas\")\n",
    "# parser.add_argument(\"--lr\", type=float, default=5e-7)\n",
    "# parser.add_argument(\"--epoch_num\", type=int, default=50)\n",
    "# parser.add_argument(\"--lambda_loss1\", type=float, default=1e-2)\n",
    "# parser.add_argument(\"--lambda_loss2\", type=float, default=1)\n",
    "# parser.add_argument(\"--sample_size\", type=int, default=5)\n",
    "# parser.add_argument(\"--dimension\", type=int, default=512)\n",
    "# parser.add_argument(\"--identify\", type=str, default=\"sample\")\n",
    "# parser.add_argument(\"--dataset_type\", type=str, default=\"real\")\n",
    "\n",
    "# args = parser.parse_args()\n",
    "# # train_synthetic_graphs()™\n",
    "# if args.dataset_type == \"real\":\n",
    "#     dataset_str = args.dataset\n",
    "#     if dataset_str == \"cora\" or dataset_str == \"citeseer\" or dataset_str == \"pubmed\":\n",
    "#         train_real_datasets(dataset_str=dataset_str, lr=args.lr, epoch_num=args.epoch_num, lambda_loss1=args.lambda_loss1, lambda_loss2=args.lambda_loss2, encoder=\"GCN\", sample_size=args.sample_size, hidden_dim=args.dimension)\n",
    "#     else:\n",
    "#         train_new_datasets(dataset_str=dataset_str, lr=args.lr, epoch_num=args.epoch_num, lambda_loss1=args.lambda_loss1, lambda_loss2=args.lambda_loss2, encoder=\"GCN\", sample_size=args.sample_size, hidden_dim=args.dimension)\n",
    "# else:\n",
    "#     train_synthetic_graphs()"
   ]
  },
  {
   "cell_type": "code",
   "execution_count": null,
   "id": "9ca63c72",
   "metadata": {},
   "outputs": [],
   "source": [
    "# def read_real_datasets(datasets):\n",
    "#     edge_path = \"../datasets/{}/out1_graph_edges.txt\".format(datasets)\n",
    "#     node_feature_path = \"../datasets/{}/out1_node_feature_label.txt\".format(datasets)\n",
    "#     with open(edge_path) as edge_file:\n",
    "#         edge_file_lines = edge_file.readlines()\n",
    "#         G = nx.parse_edgelist(edge_file_lines[1:], nodetype=int)\n",
    "#         g = dgl.from_networkx(G)\n",
    "#     with open(node_feature_path) as node_feature_file:\n",
    "#         node_lines = node_feature_file.readlines()[1:]\n",
    "#         feature_list = []\n",
    "#         labels = []\n",
    "#         max_len = 0\n",
    "#         for node_line in node_lines:\n",
    "#             node_id, feature, label = node_line.split(\"\\t\")\n",
    "#             labels.append(int(label))\n",
    "#             features = feature.split(\",\")\n",
    "#             max_len = max(len(features), max_len)\n",
    "#             feature_list.append([float(feature) for feature in features])\n",
    "#         feature_pad_list = []\n",
    "#         for features in feature_list:\n",
    "#             features += [0] * (max_len - len(features))\n",
    "#             feature_pad_list.append(features)\n",
    "#         feature_array = np.array(feature_pad_list)\n",
    "#         features = torch.from_numpy(feature_array)\n",
    "#         g.ndata[\"attr\"] = features.float()\n",
    "#         labels = np.array(labels)\n",
    "#         labels = torch.FloatTensor(labels)\n",
    "#     return g, labels"
   ]
  },
  {
   "cell_type": "code",
   "execution_count": 177,
   "id": "770ccbe0",
   "metadata": {},
   "outputs": [],
   "source": [
    "import numpy as np\n",
    "import scipy as sp\n",
    "import networkx as nx\n",
    "import torch\n",
    "import torch_geometric\n",
    "import matplotlib.pyplot as plt\n",
    "from mpl_toolkits.mplot3d import Axes3D\n",
    "\n",
    "\n",
    "def create_graph(num_dim_features=3, max_distance=1.3, use_plot=False):\n",
    "    num_nodes = np.random.randint(3, 50)\n",
    "    classes = [f\"{i}\" for i in range(2)]\n",
    "    centers_cluster = np.array([[0.0] * num_dim_features, [1.0] * num_dim_features])\n",
    "\n",
    "    G = nx.Graph()\n",
    "    features_all = []\n",
    "    labels = []\n",
    "\n",
    "    for i in range(num_nodes):\n",
    "        ind_label = np.random.randint(len(classes))\n",
    "        label = classes[ind_label]\n",
    "        center = centers_cluster[ind_label]\n",
    "        features = tuple(np.random.randn(num_dim_features) + center)\n",
    "        features_all.append(features)\n",
    "        labels.append(label)\n",
    "        G.add_node(i, features=features, label=label)\n",
    "\n",
    "    features_all = np.asarray(features_all)\n",
    "\n",
    "    # Gaussian weighting such that weight is 0.5 if distance is max_distance.\n",
    "    # Can view this as probabilistic model whether there is an edge between two nodes, and we do a binary decision for the edge.\n",
    "    std = np.sqrt(-2.0 * np.log(0.5)) * max_distance\n",
    "    distances = sp.spatial.distance.cdist(features_all, features_all, metric=\"euclidean\")\n",
    "    scores = np.exp(-0.5 * (distances / std) ** 2)\n",
    "\n",
    "    for i in range(num_nodes):\n",
    "        for j in range(i + 1, num_nodes):\n",
    "            if scores[i, j] > 0.5:\n",
    "                # Remap score to weights in [0, 1]\n",
    "                score_remapped = (scores[i, j] - 0.5) * 2.0\n",
    "                G.add_edge(i, j, weight=score_remapped, distance=distances[i, j])\n",
    "\n",
    "    g = torch_geometric.utils.from_networkx(G)\n",
    "\n",
    "    features_all = torch.tensor(features_all, dtype=torch.float)\n",
    "    features_all = features_all - features_all.mean(dim=0, keepdim=True)\n",
    "\n",
    "    if use_plot:\n",
    "        features = nx.get_node_attributes(G, \"features\")\n",
    "\n",
    "        # Plotting in 3D\n",
    "        fig = plt.figure()\n",
    "        ax = fig.add_subplot(111, projection=\"3d\")\n",
    "\n",
    "        for node, (x, y, z) in features.items():\n",
    "            ax.scatter(x, y, z, c=[\"green\" if G.nodes[node][\"label\"] == \"0\" else \"red\"])\n",
    "            ax.text(x, y, z, G.nodes[node][\"label\"], fontsize=9)\n",
    "\n",
    "        # Draw edges\n",
    "        for u, v in G.edges():\n",
    "            x_vals = [features[u][0], features[v][0]]\n",
    "            y_vals = [features[u][1], features[v][1]]\n",
    "            z_vals = [features[u][2], features[v][2]]\n",
    "            ax.plot(x_vals, y_vals, z_vals, c=\"gray\", linewidth=0.5)\n",
    "\n",
    "        plt.show()\n",
    "\n",
    "    return g, features_all, labels"
   ]
  },
  {
   "cell_type": "markdown",
   "id": "20fff5ef",
   "metadata": {},
   "source": [
    "## 3D Graph"
   ]
  },
  {
   "cell_type": "code",
   "execution_count": 163,
   "id": "236c696b",
   "metadata": {},
   "outputs": [
    {
     "data": {
      "image/png": "[encoded data removed]",
      "text/plain": [
       "<Figure size 640x480 with 1 Axes>"
      ]
     },
     "metadata": {},
     "output_type": "display_data"
    },
    {
     "name": "stdout",
     "output_type": "stream",
     "text": [
      "tensor([12, 12,  2,  3, 13, 16,  2,  4,  4, 18, 21, 22, 13,  9,  4, 12, 22, 12,\n",
      "        12, 20, 11, 27, 10,  8, 17, 20, 22, 14,  5, 24,  8, 23, 19, 29, 19, 19,\n",
      "        29, 18,  9,  1, 22, 12, 14, 25, 16, 23, 17, 26])\n"
     ]
    }
   ],
   "source": [
    "g, features, labels = create_graph(num_dim_features=3, use_plot=True)\n",
    "in_degrees = torch.bincount(g.edge_index[1], minlength=g.num_nodes)\n",
    "print(in_degrees)"
   ]
  },
  {
   "cell_type": "code",
   "execution_count": 164,
   "id": "61cb5c29",
   "metadata": {},
   "outputs": [
    {
     "data": {
      "image/png": "[encoded data removed]",
      "text/plain": [
       "<Figure size 800x600 with 1 Axes>"
      ]
     },
     "metadata": {},
     "output_type": "display_data"
    }
   ],
   "source": [
    "node_embedded = TSNE(n_components=2, perplexity=5).fit_transform(features)\n",
    "\n",
    "x = node_embedded[:, 0]\n",
    "y = node_embedded[:, 1]\n",
    "\n",
    "plt.figure(figsize=(8, 6))\n",
    "plt.scatter(x, y, s=30, alpha=0.7, edgecolors=\"k\", c=labels)\n",
    "plt.grid(True)\n",
    "plt.show()"
   ]
  },
  {
   "cell_type": "code",
   "execution_count": 168,
   "id": "20eafd94",
   "metadata": {},
   "outputs": [
    {
     "name": "stderr",
     "output_type": "stream",
     "text": [
      "  1%|█▉                                                                                                                                                                                                  | 2/200 [00:00<00:14, 13.56it/s]"
     ]
    },
    {
     "name": "stdout",
     "output_type": "stream",
     "text": [
      "0 2598.273681640625\n",
      "1 2583.735595703125\n",
      "2 2572.757080078125\n"
     ]
    },
    {
     "name": "stderr",
     "output_type": "stream",
     "text": [
      "  3%|█████▉                                                                                                                                                                                              | 6/200 [00:00<00:14, 13.47it/s]"
     ]
    },
    {
     "name": "stdout",
     "output_type": "stream",
     "text": [
      "3 2565.061279296875\n",
      "4 2558.914794921875\n",
      "5 2553.383544921875\n"
     ]
    },
    {
     "name": "stderr",
     "output_type": "stream",
     "text": [
      "  4%|███████▊                                                                                                                                                                                            | 8/200 [00:00<00:13, 13.74it/s]"
     ]
    },
    {
     "name": "stdout",
     "output_type": "stream",
     "text": [
      "6 2547.58984375\n",
      "7 2541.3291015625\n",
      "8 2534.52197265625\n"
     ]
    },
    {
     "name": "stderr",
     "output_type": "stream",
     "text": [
      "  6%|███████████▋                                                                                                                                                                                       | 12/200 [00:00<00:13, 14.44it/s]"
     ]
    },
    {
     "name": "stdout",
     "output_type": "stream",
     "text": [
      "9 2526.169189453125\n",
      "10 2517.13720703125\n",
      "11 2507.279052734375\n",
      "12 2496.961181640625\n"
     ]
    },
    {
     "name": "stderr",
     "output_type": "stream",
     "text": [
      "  8%|███████████████▌                                                                                                                                                                                   | 16/200 [00:01<00:12, 14.78it/s]"
     ]
    },
    {
     "name": "stdout",
     "output_type": "stream",
     "text": [
      "13 2486.089111328125\n",
      "14 2473.265869140625\n",
      "15 2459.093505859375\n"
     ]
    },
    {
     "name": "stderr",
     "output_type": "stream",
     "text": [
      "  9%|█████████████████▌                                                                                                                                                                                 | 18/200 [00:01<00:12, 14.57it/s]"
     ]
    },
    {
     "name": "stdout",
     "output_type": "stream",
     "text": [
      "16 2444.728271484375\n",
      "17 2430.830810546875\n",
      "18 2418.31005859375\n"
     ]
    },
    {
     "name": "stderr",
     "output_type": "stream",
     "text": [
      " 11%|█████████████████████▍                                                                                                                                                                             | 22/200 [00:01<00:12, 14.10it/s]"
     ]
    },
    {
     "name": "stdout",
     "output_type": "stream",
     "text": [
      "19 2406.0185546875\n",
      "20 2393.0927734375\n",
      "21 2378.002685546875\n"
     ]
    },
    {
     "name": "stderr",
     "output_type": "stream",
     "text": [
      " 13%|█████████████████████████▎                                                                                                                                                                         | 26/200 [00:01<00:11, 14.61it/s]"
     ]
    },
    {
     "name": "stdout",
     "output_type": "stream",
     "text": [
      "22 2362.23828125\n",
      "23 2346.0419921875\n",
      "24 2329.81005859375\n",
      "25 2314.15283203125\n"
     ]
    },
    {
     "name": "stderr",
     "output_type": "stream",
     "text": [
      " 15%|█████████████████████████████▎                                                                                                                                                                     | 30/200 [00:02<00:11, 14.93it/s]"
     ]
    },
    {
     "name": "stdout",
     "output_type": "stream",
     "text": [
      "26 2297.036376953125\n",
      "27 2280.0986328125\n",
      "28 2262.731201171875\n",
      "29 2244.20361328125\n"
     ]
    },
    {
     "name": "stderr",
     "output_type": "stream",
     "text": [
      " 17%|█████████████████████████████████▏                                                                                                                                                                 | 34/200 [00:02<00:11, 15.05it/s]"
     ]
    },
    {
     "name": "stdout",
     "output_type": "stream",
     "text": [
      "30 2224.935546875\n",
      "31 2205.171142578125\n",
      "32 2184.60888671875\n",
      "33 2163.28125\n"
     ]
    },
    {
     "name": "stderr",
     "output_type": "stream",
     "text": [
      " 19%|█████████████████████████████████████                                                                                                                                                              | 38/200 [00:02<00:10, 15.16it/s]"
     ]
    },
    {
     "name": "stdout",
     "output_type": "stream",
     "text": [
      "34 2141.8291015625\n",
      "35 2119.600341796875\n",
      "36 2097.059326171875\n",
      "37 2073.568603515625\n"
     ]
    },
    {
     "name": "stderr",
     "output_type": "stream",
     "text": [
      " 21%|████████████████████████████████████████▉                                                                                                                                                          | 42/200 [00:02<00:10, 15.22it/s]"
     ]
    },
    {
     "name": "stdout",
     "output_type": "stream",
     "text": [
      "38 2050.234619140625\n",
      "39 2025.86962890625\n",
      "40 2000.3929443359375\n",
      "41 1974.08740234375\n"
     ]
    },
    {
     "name": "stderr",
     "output_type": "stream",
     "text": [
      " 23%|████████████████████████████████████████████▊                                                                                                                                                      | 46/200 [00:03<00:10, 15.31it/s]"
     ]
    },
    {
     "name": "stdout",
     "output_type": "stream",
     "text": [
      "42 1947.12060546875\n",
      "43 1919.530517578125\n",
      "44 1892.1512451171875\n",
      "45 1864.180908203125\n"
     ]
    },
    {
     "name": "stderr",
     "output_type": "stream",
     "text": [
      " 24%|██████████████████████████████████████████████▊                                                                                                                                                    | 48/200 [00:03<00:09, 15.23it/s]"
     ]
    },
    {
     "name": "stdout",
     "output_type": "stream",
     "text": [
      "46 1835.6505126953125\n",
      "47 1806.4605712890625\n",
      "48 1776.16357421875\n"
     ]
    },
    {
     "name": "stderr",
     "output_type": "stream",
     "text": [
      " 26%|██████████████████████████████████████████████████▋                                                                                                                                                | 52/200 [00:03<00:10, 14.25it/s]"
     ]
    },
    {
     "name": "stdout",
     "output_type": "stream",
     "text": [
      "49 1745.3990478515625\n",
      "50 1713.893310546875\n",
      "51 1682.0076904296875\n"
     ]
    },
    {
     "name": "stderr",
     "output_type": "stream",
     "text": [
      " 27%|████████████████████████████████████████████████████▋                                                                                                                                              | 54/200 [00:03<00:10, 14.10it/s]"
     ]
    },
    {
     "name": "stdout",
     "output_type": "stream",
     "text": [
      "52 1649.8555908203125\n",
      "53 1617.0848388671875\n",
      "54 1584.064697265625\n"
     ]
    },
    {
     "name": "stderr",
     "output_type": "stream",
     "text": [
      " 29%|████████████████████████████████████████████████████████▌                                                                                                                                          | 58/200 [00:03<00:09, 14.59it/s]"
     ]
    },
    {
     "name": "stdout",
     "output_type": "stream",
     "text": [
      "55 1550.4052734375\n",
      "56 1516.1392822265625\n",
      "57 1481.4779052734375\n",
      "58 1446.6007080078125\n"
     ]
    },
    {
     "name": "stderr",
     "output_type": "stream",
     "text": [
      " 31%|████████████████████████████████████████████████████████████▍                                                                                                                                      | 62/200 [00:04<00:09, 14.80it/s]"
     ]
    },
    {
     "name": "stdout",
     "output_type": "stream",
     "text": [
      "59 1411.1658935546875\n",
      "60 1375.5284423828125\n",
      "61 1339.6505126953125\n"
     ]
    },
    {
     "name": "stderr",
     "output_type": "stream",
     "text": [
      " 32%|██████████████████████████████████████████████████████████████▍                                                                                                                                    | 64/200 [00:04<00:09, 14.42it/s]"
     ]
    },
    {
     "name": "stdout",
     "output_type": "stream",
     "text": [
      "62 1303.3790283203125\n",
      "63 1267.0048828125\n",
      "64 1230.480712890625\n"
     ]
    },
    {
     "name": "stderr",
     "output_type": "stream",
     "text": [
      " 34%|██████████████████████████████████████████████████████████████████▎                                                                                                                                | 68/200 [00:04<00:09, 14.09it/s]"
     ]
    },
    {
     "name": "stdout",
     "output_type": "stream",
     "text": [
      "65 1193.819091796875\n",
      "66 1157.1087646484375\n",
      "67 1120.3389892578125\n"
     ]
    },
    {
     "name": "stderr",
     "output_type": "stream",
     "text": [
      " 35%|████████████████████████████████████████████████████████████████████▎                                                                                                                              | 70/200 [00:04<00:09, 13.96it/s]"
     ]
    },
    {
     "name": "stdout",
     "output_type": "stream",
     "text": [
      "68 1080.5849609375\n",
      "69 1039.1240234375\n",
      "70 985.8380126953125\n"
     ]
    },
    {
     "name": "stderr",
     "output_type": "stream",
     "text": [
      " 37%|████████████████████████████████████████████████████████████████████████▏                                                                                                                          | 74/200 [00:05<00:09, 13.98it/s]"
     ]
    },
    {
     "name": "stdout",
     "output_type": "stream",
     "text": [
      "71 918.4691772460938\n",
      "72 862.5625610351562\n",
      "73 818.79736328125\n"
     ]
    },
    {
     "name": "stderr",
     "output_type": "stream",
     "text": [
      " 38%|██████████████████████████████████████████████████████████████████████████                                                                                                                         | 76/200 [00:05<00:08, 13.92it/s]"
     ]
    },
    {
     "name": "stdout",
     "output_type": "stream",
     "text": [
      "74 785.7908935546875\n",
      "75 737.3244018554688\n",
      "76 691.6908569335938\n"
     ]
    },
    {
     "name": "stderr",
     "output_type": "stream",
     "text": [
      " 40%|██████████████████████████████████████████████████████████████████████████████                                                                                                                     | 80/200 [00:05<00:08, 13.80it/s]"
     ]
    },
    {
     "name": "stdout",
     "output_type": "stream",
     "text": [
      "77 655.4207153320312\n",
      "78 620.843994140625\n",
      "79 580.5386352539062\n"
     ]
    },
    {
     "name": "stderr",
     "output_type": "stream",
     "text": [
      " 41%|███████████████████████████████████████████████████████████████████████████████▉                                                                                                                   | 82/200 [00:05<00:08, 13.78it/s]"
     ]
    },
    {
     "name": "stdout",
     "output_type": "stream",
     "text": [
      "80 541.2850341796875\n",
      "81 506.3349609375\n",
      "82 476.3533630371094\n"
     ]
    },
    {
     "name": "stderr",
     "output_type": "stream",
     "text": [
      " 43%|███████████████████████████████████████████████████████████████████████████████████▊                                                                                                               | 86/200 [00:05<00:07, 14.38it/s]"
     ]
    },
    {
     "name": "stdout",
     "output_type": "stream",
     "text": [
      "83 445.3291931152344\n",
      "84 412.4466857910156\n",
      "85 381.8916931152344\n",
      "86 354.3621520996094\n"
     ]
    },
    {
     "name": "stderr",
     "output_type": "stream",
     "text": [
      " 45%|███████████████████████████████████████████████████████████████████████████████████████▊                                                                                                           | 90/200 [00:06<00:07, 14.13it/s]"
     ]
    },
    {
     "name": "stdout",
     "output_type": "stream",
     "text": [
      "87 331.5311279296875\n",
      "88 310.6334533691406\n",
      "89 289.7275390625\n"
     ]
    },
    {
     "name": "stderr",
     "output_type": "stream",
     "text": [
      " 46%|█████████████████████████████████████████████████████████████████████████████████████████▋                                                                                                         | 92/200 [00:06<00:07, 13.96it/s]"
     ]
    },
    {
     "name": "stdout",
     "output_type": "stream",
     "text": [
      "90 269.1236267089844\n",
      "91 248.89114379882812\n",
      "92 229.09555053710938\n"
     ]
    },
    {
     "name": "stderr",
     "output_type": "stream",
     "text": [
      " 48%|█████████████████████████████████████████████████████████████████████████████████████████████▌                                                                                                     | 96/200 [00:06<00:07, 13.87it/s]"
     ]
    },
    {
     "name": "stdout",
     "output_type": "stream",
     "text": [
      "93 210.1468963623047\n",
      "94 192.98638916015625\n",
      "95 178.34910583496094\n"
     ]
    },
    {
     "name": "stderr",
     "output_type": "stream",
     "text": [
      " 49%|███████████████████████████████████████████████████████████████████████████████████████████████▌                                                                                                   | 98/200 [00:06<00:07, 13.99it/s]"
     ]
    },
    {
     "name": "stdout",
     "output_type": "stream",
     "text": [
      "96 165.457763671875\n",
      "97 153.76866149902344\n",
      "98 142.86424255371094\n",
      "99 132.6189727783203\n"
     ]
    },
    {
     "name": "stderr",
     "output_type": "stream",
     "text": [
      " 51%|██████████████████████████████████████████████████████████████████████████████████████████████████▉                                                                                               | 102/200 [00:07<00:06, 14.38it/s]"
     ]
    },
    {
     "name": "stdout",
     "output_type": "stream",
     "text": [
      "100 123.59253692626953\n",
      "101 115.86701202392578\n",
      "102 109.3011703491211\n"
     ]
    },
    {
     "name": "stderr",
     "output_type": "stream",
     "text": [
      " 53%|██████████████████████████████████████████████████████████████████████████████████████████████████████▊                                                                                           | 106/200 [00:07<00:06, 14.09it/s]"
     ]
    },
    {
     "name": "stdout",
     "output_type": "stream",
     "text": [
      "103 103.66058349609375\n",
      "104 98.39583587646484\n",
      "105 94.1611099243164\n"
     ]
    },
    {
     "name": "stderr",
     "output_type": "stream",
     "text": [
      " 54%|████████████████████████████████████████████████████████████████████████████████████████████████████████▊                                                                                         | 108/200 [00:07<00:06, 13.68it/s]"
     ]
    },
    {
     "name": "stdout",
     "output_type": "stream",
     "text": [
      "106 90.6863021850586\n",
      "107 87.56303405761719\n",
      "108 84.74713897705078\n"
     ]
    },
    {
     "name": "stderr",
     "output_type": "stream",
     "text": [
      " 56%|████████████████████████████████████████████████████████████████████████████████████████████████████████████▋                                                                                     | 112/200 [00:07<00:06, 14.25it/s]"
     ]
    },
    {
     "name": "stdout",
     "output_type": "stream",
     "text": [
      "109 82.55681610107422\n",
      "110 81.17823791503906\n",
      "111 80.19842529296875\n",
      "112 79.35114288330078\n"
     ]
    },
    {
     "name": "stderr",
     "output_type": "stream",
     "text": [
      " 58%|████████████████████████████████████████████████████████████████████████████████████████████████████████████████▌                                                                                 | 116/200 [00:08<00:05, 14.49it/s]"
     ]
    },
    {
     "name": "stdout",
     "output_type": "stream",
     "text": [
      "113 78.66212463378906\n",
      "114 78.17742919921875\n",
      "115 77.89996337890625\n",
      "116 77.82550811767578\n"
     ]
    },
    {
     "name": "stderr",
     "output_type": "stream",
     "text": [
      " 60%|████████████████████████████████████████████████████████████████████████████████████████████████████████████████████▍                                                                             | 120/200 [00:08<00:05, 14.51it/s]"
     ]
    },
    {
     "name": "stdout",
     "output_type": "stream",
     "text": [
      "117 77.72886657714844\n",
      "118 77.60038757324219\n",
      "119 77.59187316894531\n"
     ]
    },
    {
     "name": "stderr",
     "output_type": "stream",
     "text": [
      " 61%|██████████████████████████████████████████████████████████████████████████████████████████████████████████████████████▎                                                                           | 122/200 [00:08<00:05, 14.24it/s]"
     ]
    },
    {
     "name": "stdout",
     "output_type": "stream",
     "text": [
      "120 77.72053527832031\n",
      "121 77.71958923339844\n",
      "122 77.53949737548828\n"
     ]
    },
    {
     "name": "stderr",
     "output_type": "stream",
     "text": [
      " 63%|██████████████████████████████████████████████████████████████████████████████████████████████████████████████████████████▏                                                                       | 126/200 [00:08<00:05, 14.38it/s]"
     ]
    },
    {
     "name": "stdout",
     "output_type": "stream",
     "text": [
      "123 77.32549285888672\n",
      "124 77.12908935546875\n",
      "125 76.4569320678711\n"
     ]
    },
    {
     "name": "stderr",
     "output_type": "stream",
     "text": [
      " 64%|████████████████████████████████████████████████████████████████████████████████████████████████████████████████████████████▏                                                                     | 128/200 [00:08<00:04, 14.55it/s]"
     ]
    },
    {
     "name": "stdout",
     "output_type": "stream",
     "text": [
      "126 75.57554626464844\n",
      "127 74.12882995605469\n",
      "128 72.38949584960938\n"
     ]
    },
    {
     "name": "stderr",
     "output_type": "stream",
     "text": [
      " 66%|████████████████████████████████████████████████████████████████████████████████████████████████████████████████████████████████                                                                  | 132/200 [00:09<00:04, 14.33it/s]"
     ]
    },
    {
     "name": "stdout",
     "output_type": "stream",
     "text": [
      "129 70.25772857666016\n",
      "130 68.07624053955078\n",
      "131 65.46737670898438\n"
     ]
    },
    {
     "name": "stderr",
     "output_type": "stream",
     "text": [
      " 67%|█████████████████████████████████████████████████████████████████████████████████████████████████████████████████████████████████▉                                                                | 134/200 [00:09<00:04, 14.36it/s]"
     ]
    },
    {
     "name": "stdout",
     "output_type": "stream",
     "text": [
      "132 61.96891403198242\n",
      "133 58.44749450683594\n",
      "134 55.26863479614258\n"
     ]
    },
    {
     "name": "stderr",
     "output_type": "stream",
     "text": [
      " 69%|█████████████████████████████████████████████████████████████████████████████████████████████████████████████████████████████████████▊                                                            | 138/200 [00:09<00:04, 14.19it/s]"
     ]
    },
    {
     "name": "stdout",
     "output_type": "stream",
     "text": [
      "135 52.664276123046875\n",
      "136 50.091922760009766\n",
      "137 47.33524703979492\n"
     ]
    },
    {
     "name": "stderr",
     "output_type": "stream",
     "text": [
      " 70%|███████████████████████████████████████████████████████████████████████████████████████████████████████████████████████████████████████▊                                                          | 140/200 [00:09<00:04, 14.41it/s]"
     ]
    },
    {
     "name": "stdout",
     "output_type": "stream",
     "text": [
      "138 45.05690383911133\n",
      "139 42.8890380859375\n",
      "140 40.525997161865234\n"
     ]
    },
    {
     "name": "stderr",
     "output_type": "stream",
     "text": [
      " 72%|███████████████████████████████████████████████████████████████████████████████████████████████████████████████████████████████████████████▋                                                      | 144/200 [00:10<00:03, 14.03it/s]"
     ]
    },
    {
     "name": "stdout",
     "output_type": "stream",
     "text": [
      "141 39.14171600341797\n",
      "142 38.20415496826172\n",
      "143 37.38849639892578\n"
     ]
    },
    {
     "name": "stderr",
     "output_type": "stream",
     "text": [
      " 73%|█████████████████████████████████████████████████████████████████████████████████████████████████████████████████████████████████████████████▌                                                    | 146/200 [00:10<00:03, 14.12it/s]"
     ]
    },
    {
     "name": "stdout",
     "output_type": "stream",
     "text": [
      "144 36.419490814208984\n",
      "145 35.69441604614258\n",
      "146 35.07480239868164\n",
      "147 34.391761779785156\n"
     ]
    },
    {
     "name": "stderr",
     "output_type": "stream",
     "text": [
      " 75%|█████████████████████████████████████████████████████████████████████████████████████████████████████████████████████████████████████████████████▌                                                | 150/200 [00:10<00:03, 14.56it/s]"
     ]
    },
    {
     "name": "stdout",
     "output_type": "stream",
     "text": [
      "148 33.60363006591797\n",
      "149 33.499855041503906\n",
      "150 33.06089401245117\n"
     ]
    },
    {
     "name": "stderr",
     "output_type": "stream",
     "text": [
      " 77%|█████████████████████████████████████████████████████████████████████████████████████████████████████████████████████████████████████████████████████▍                                            | 154/200 [00:10<00:03, 14.56it/s]"
     ]
    },
    {
     "name": "stdout",
     "output_type": "stream",
     "text": [
      "151 32.313026428222656\n",
      "152 31.47064208984375\n",
      "153 30.764495849609375\n"
     ]
    },
    {
     "name": "stderr",
     "output_type": "stream",
     "text": [
      " 78%|███████████████████████████████████████████████████████████████████████████████████████████████████████████████████████████████████████████████████████▎                                          | 156/200 [00:10<00:03, 14.42it/s]"
     ]
    },
    {
     "name": "stdout",
     "output_type": "stream",
     "text": [
      "154 30.20465850830078\n",
      "155 29.743757247924805\n",
      "156 29.460182189941406\n",
      "157 29.042879104614258\n"
     ]
    },
    {
     "name": "stderr",
     "output_type": "stream",
     "text": [
      " 81%|█████████████████████████████████████████████████████████████████████████████████████████████████████████████████████████████████████████████████████████████▏                                    | 162/200 [00:11<00:02, 14.93it/s]"
     ]
    },
    {
     "name": "stdout",
     "output_type": "stream",
     "text": [
      "158 28.54397964477539\n",
      "159 28.296953201293945\n",
      "160 28.203611373901367\n",
      "161 28.057804107666016\n"
     ]
    },
    {
     "name": "stderr",
     "output_type": "stream",
     "text": [
      " 82%|███████████████████████████████████████████████████████████████████████████████████████████████████████████████████████████████████████████████████████████████                                   | 164/200 [00:11<00:02, 14.96it/s]"
     ]
    },
    {
     "name": "stdout",
     "output_type": "stream",
     "text": [
      "162 27.886924743652344\n",
      "163 27.754350662231445\n",
      "164 27.67987632751465\n"
     ]
    },
    {
     "name": "stderr",
     "output_type": "stream",
     "text": [
      " 84%|██████████████████████████████████████████████████████████████████████████████████████████████████████████████████████████████████████████████████████████████████▉                               | 168/200 [00:11<00:02, 14.57it/s]"
     ]
    },
    {
     "name": "stdout",
     "output_type": "stream",
     "text": [
      "165 27.435758590698242\n",
      "166 27.170040130615234\n",
      "167 26.968130111694336\n"
     ]
    },
    {
     "name": "stderr",
     "output_type": "stream",
     "text": [
      " 85%|████████████████████████████████████████████████████████████████████████████████████████████████████████████████████████████████████████████████████████████████████▉                             | 170/200 [00:11<00:02, 14.64it/s]"
     ]
    },
    {
     "name": "stdout",
     "output_type": "stream",
     "text": [
      "168 26.662757873535156\n",
      "169 26.42919158935547\n",
      "170 26.347646713256836\n"
     ]
    },
    {
     "name": "stderr",
     "output_type": "stream",
     "text": [
      " 87%|████████████████████████████████████████████████████████████████████████████████████████████████████████████████████████████████████████████████████████████████████████▊                         | 174/200 [00:12<00:01, 14.81it/s]"
     ]
    },
    {
     "name": "stdout",
     "output_type": "stream",
     "text": [
      "171 26.228469848632812\n",
      "172 25.97027587890625\n",
      "173 25.85538673400879\n"
     ]
    },
    {
     "name": "stderr",
     "output_type": "stream",
     "text": [
      " 88%|██████████████████████████████████████████████████████████████████████████████████████████████████████████████████████████████████████████████████████████████████████████▋                       | 176/200 [00:12<00:01, 14.86it/s]"
     ]
    },
    {
     "name": "stdout",
     "output_type": "stream",
     "text": [
      "174 25.727527618408203\n",
      "175 25.58924674987793\n",
      "176 25.477249145507812\n"
     ]
    },
    {
     "name": "stderr",
     "output_type": "stream",
     "text": [
      " 90%|██████████████████████████████████████████████████████████████████████████████████████████████████████████████████████████████████████████████████████████████████████████████▌                   | 180/200 [00:12<00:01, 14.77it/s]"
     ]
    },
    {
     "name": "stdout",
     "output_type": "stream",
     "text": [
      "177 25.273752212524414\n",
      "178 25.192363739013672\n",
      "179 24.998722076416016\n",
      "180 24.831666946411133\n"
     ]
    },
    {
     "name": "stderr",
     "output_type": "stream",
     "text": [
      " 92%|██████████████████████████████████████████████████████████████████████████████████████████████████████████████████████████████████████████████████████████████████████████████████▍               | 184/200 [00:12<00:01, 14.55it/s]"
     ]
    },
    {
     "name": "stdout",
     "output_type": "stream",
     "text": [
      "181 24.669036865234375\n",
      "182 24.575908660888672\n",
      "183 24.377361297607422\n"
     ]
    },
    {
     "name": "stderr",
     "output_type": "stream",
     "text": [
      " 93%|████████████████████████████████████████████████████████████████████████████████████████████████████████████████████████████████████████████████████████████████████████████████████▍             | 186/200 [00:12<00:00, 14.10it/s]"
     ]
    },
    {
     "name": "stdout",
     "output_type": "stream",
     "text": [
      "184 24.31032371520996\n",
      "185 24.157869338989258\n",
      "186 23.980697631835938\n"
     ]
    },
    {
     "name": "stderr",
     "output_type": "stream",
     "text": [
      " 95%|████████████████████████████████████████████████████████████████████████████████████████████████████████████████████████████████████████████████████████████████████████████████████████▎         | 190/200 [00:13<00:00, 14.38it/s]"
     ]
    },
    {
     "name": "stdout",
     "output_type": "stream",
     "text": [
      "187 23.8341064453125\n",
      "188 23.667028427124023\n",
      "189 23.719030380249023\n",
      "190 23.66299819946289\n"
     ]
    },
    {
     "name": "stderr",
     "output_type": "stream",
     "text": [
      " 97%|████████████████████████████████████████████████████████████████████████████████████████████████████████████████████████████████████████████████████████████████████████████████████████████▏     | 194/200 [00:13<00:00, 14.71it/s]"
     ]
    },
    {
     "name": "stdout",
     "output_type": "stream",
     "text": [
      "191 23.6136531829834\n",
      "192 23.514860153198242\n",
      "193 23.464061737060547\n",
      "194 23.30695343017578\n"
     ]
    },
    {
     "name": "stderr",
     "output_type": "stream",
     "text": [
      " 99%|████████████████████████████████████████████████████████████████████████████████████████████████████████████████████████████████████████████████████████████████████████████████████████████████  | 198/200 [00:13<00:00, 14.68it/s]"
     ]
    },
    {
     "name": "stdout",
     "output_type": "stream",
     "text": [
      "195 23.149438858032227\n",
      "196 23.043865203857422\n",
      "197 22.86860466003418\n"
     ]
    },
    {
     "name": "stderr",
     "output_type": "stream",
     "text": [
      "100%|██████████████████████████████████████████████████████████████████████████████████████████████████████████████████████████████████████████████████████████████████████████████████████████████████| 200/200 [00:13<00:00, 14.42it/s]"
     ]
    },
    {
     "name": "stdout",
     "output_type": "stream",
     "text": [
      "198 22.828126907348633\n",
      "199 22.733808517456055\n"
     ]
    },
    {
     "name": "stderr",
     "output_type": "stream",
     "text": [
      "\n"
     ]
    }
   ],
   "source": [
    "# device = torch.device(\"cuda\" if torch.cuda.is_available() else \"cpu\")\n",
    "# GPU not working as torch installed via pip does not fully support RTX 5090\n",
    "device = torch.device(\"cpu\")\n",
    "\n",
    "lr = 0.003\n",
    "epoch_num = 200\n",
    "lambda_loss1 = 1e-2\n",
    "lambda_loss2 = 1\n",
    "encoder = \"GCN\"\n",
    "sample_size = 3\n",
    "\n",
    "hidden_dim = 2\n",
    "\n",
    "g = g.to(device)\n",
    "\n",
    "node_embeddings, loss, decoded = train(g, features, in_degrees, lr=lr, epoch=epoch_num, device=device, encoder=encoder, lambda_loss1=lambda_loss1, lambda_loss2=lambda_loss2, sample_size=sample_size, hidden_dim=hidden_dim)"
   ]
  },
  {
   "cell_type": "code",
   "execution_count": 169,
   "id": "ea90f8ac",
   "metadata": {},
   "outputs": [
    {
     "data": {
      "text/plain": [
       "tensor([[-1.4980e+00, -3.0900e-01, -9.5755e-01],\n",
       "        [-6.0884e-01, -1.8088e+00, -3.1568e-01],\n",
       "        [ 1.3706e+00, -1.5132e+00, -1.6058e+00],\n",
       "        [ 4.0703e-01, -7.5300e-02, -2.6710e+00],\n",
       "        [ 2.1052e-01,  1.8764e-01,  1.5103e+00],\n",
       "        [-1.0091e+00,  9.7139e-01, -8.9306e-01],\n",
       "        [-2.2948e-01, -3.1010e+00,  3.7608e-01],\n",
       "        [ 1.2105e+00,  2.2883e+00, -2.5164e-01],\n",
       "        [ 6.1645e-01,  1.4471e+00, -1.5059e+00],\n",
       "        [ 9.7614e-03, -1.2574e+00,  6.1652e-02],\n",
       "        [-2.2072e-01,  7.6846e-01,  7.7041e-01],\n",
       "        [-1.1218e+00, -5.6502e-01, -1.3806e-01],\n",
       "        [ 1.2008e+00,  3.0628e-01,  1.2772e+00],\n",
       "        [ 3.4628e-01, -3.1035e-01, -1.9566e+00],\n",
       "        [-2.1536e+00,  9.1469e-01, -9.3281e-05],\n",
       "        [ 1.2779e+00,  5.8734e-01,  1.0625e+00],\n",
       "        [ 3.0992e-01,  5.2728e-01,  9.3175e-01],\n",
       "        [ 4.1725e-02, -1.6779e+00,  6.5192e-01],\n",
       "        [ 9.4696e-01,  1.9420e+00,  1.0814e+00],\n",
       "        [-1.1128e+00,  5.5619e-01, -2.1753e-01],\n",
       "        [-1.4647e+00, -3.1572e-01, -1.2096e+00],\n",
       "        [ 2.9806e-01, -9.9170e-02, -3.7576e-01],\n",
       "        [ 2.7786e-01,  6.1056e-01,  2.0262e+00],\n",
       "        [-8.0000e-01,  1.4980e-01,  1.7878e+00],\n",
       "        [ 4.5516e-02,  1.1738e+00, -2.0195e-01],\n",
       "        [-3.2393e-01, -1.1165e-02, -1.3706e+00],\n",
       "        [ 6.2367e-01,  5.7553e-01,  1.0755e-01],\n",
       "        [-2.9354e-01,  1.3166e+00,  4.0853e-01],\n",
       "        [-3.2551e-01,  2.1074e+00,  1.7047e+00],\n",
       "        [-5.7383e-01, -4.4063e-01, -7.4243e-01],\n",
       "        [ 8.7167e-01, -1.6264e+00,  7.1258e-01],\n",
       "        [-1.0411e+00,  3.1122e-01, -1.1953e-01],\n",
       "        [ 5.9873e-01, -9.4484e-01, -2.4487e-02],\n",
       "        [-3.0437e-01, -3.7658e-01, -2.3452e-01],\n",
       "        [-3.9126e-01,  7.8544e-01,  9.3817e-01],\n",
       "        [-8.7343e-01, -7.1262e-01, -7.1545e-01],\n",
       "        [ 1.1467e-01,  4.7134e-02, -9.0313e-02],\n",
       "        [ 1.0752e+00,  1.7801e-02, -2.0378e-01],\n",
       "        [ 1.7265e+00,  7.2012e-01, -2.6360e-02],\n",
       "        [ 1.5607e+00,  2.5935e+00,  1.5049e+00],\n",
       "        [ 9.2890e-02, -7.8016e-01,  8.7136e-01],\n",
       "        [-3.6393e-01, -1.0962e+00,  1.3695e+00],\n",
       "        [ 8.8377e-01, -8.8435e-01, -1.1959e+00],\n",
       "        [ 1.1300e-01, -6.7600e-01, -1.9502e-01],\n",
       "        [-8.6678e-01, -3.4576e-01, -1.4057e+00],\n",
       "        [ 2.2112e-01, -8.5624e-01, -1.6483e-01],\n",
       "        [-6.8432e-01, -8.3785e-01, -1.3157e+00],\n",
       "        [-1.9086e-01, -2.8386e-01,  9.5035e-01]])"
      ]
     },
     "execution_count": 169,
     "metadata": {},
     "output_type": "execute_result"
    }
   ],
   "source": [
    "features"
   ]
  },
  {
   "cell_type": "code",
   "execution_count": 170,
   "id": "e249f207",
   "metadata": {},
   "outputs": [
    {
     "data": {
      "text/plain": [
       "tensor([[-0.0320, -0.4327, -0.3235],\n",
       "        [-0.1321, -0.7877, -0.5065],\n",
       "        [-0.1321, -0.7877, -0.5065],\n",
       "        [-0.1321, -0.7877, -0.5065],\n",
       "        [ 0.2574,  0.7050,  0.3034],\n",
       "        [ 0.0465,  0.3468,  0.2612],\n",
       "        [-0.1321, -0.7877, -0.5065],\n",
       "        [ 0.7774,  2.2177,  1.0369],\n",
       "        [ 0.7089,  2.0016,  0.8885],\n",
       "        [-0.1321, -0.7877, -0.5065],\n",
       "        [ 0.0717,  0.7366,  0.5717],\n",
       "        [-0.1755, -0.7658, -0.4311],\n",
       "        [ 0.2817,  0.7524,  0.3136],\n",
       "        [-0.1321, -0.7877, -0.5065],\n",
       "        [ 0.3517,  0.8205,  0.1273],\n",
       "        [ 0.3233,  0.8237,  0.3226],\n",
       "        [-0.0152,  0.4229,  0.4080],\n",
       "        [-0.1321, -0.7877, -0.5065],\n",
       "        [ 0.4605,  2.1167,  1.2834],\n",
       "        [-0.0880, -0.0600,  0.0772],\n",
       "        [-0.1151, -0.7489, -0.4944],\n",
       "        [-0.2242, -0.5256, -0.1564],\n",
       "        [ 0.3973,  1.1491,  0.5132],\n",
       "        [ 0.3189,  0.6038,  0.0820],\n",
       "        [ 0.3309,  1.4603,  0.8733],\n",
       "        [-0.1364, -0.7856, -0.4991],\n",
       "        [-0.0416,  0.1788,  0.2273],\n",
       "        [ 0.2998,  0.8497,  0.3759],\n",
       "        [ 0.4606,  1.1876,  0.3578],\n",
       "        [-0.1556, -0.7758, -0.4657],\n",
       "        [-0.1321, -0.7877, -0.5065],\n",
       "        [-0.1615, -0.1716,  0.0741],\n",
       "        [-0.1321, -0.7877, -0.5065],\n",
       "        [-0.2081, -0.4348, -0.0973],\n",
       "        [ 0.1497,  0.8850,  0.6014],\n",
       "        [-0.1321, -0.7877, -0.5065],\n",
       "        [-0.1203,  0.0608,  0.2254],\n",
       "        [-0.1379, -0.5359, -0.2773],\n",
       "        [ 0.4791,  1.1657,  0.4220],\n",
       "        [ 0.5300,  1.4374,  0.5009],\n",
       "        [-0.2376, -0.6009, -0.2054],\n",
       "        [-0.1321, -0.7877, -0.5065],\n",
       "        [-0.1321, -0.7877, -0.5065],\n",
       "        [-0.2126, -0.7471, -0.3664],\n",
       "        [-0.1321, -0.7877, -0.5065],\n",
       "        [-0.1645, -0.7714, -0.4502],\n",
       "        [-0.1321, -0.7877, -0.5065],\n",
       "        [-0.1143,  0.0948,  0.2475]])"
      ]
     },
     "execution_count": 170,
     "metadata": {},
     "output_type": "execute_result"
    }
   ],
   "source": [
    "decoded"
   ]
  },
  {
   "cell_type": "code",
   "execution_count": 171,
   "id": "23dce50d",
   "metadata": {},
   "outputs": [
    {
     "data": {
      "text/plain": [
       "tensor(0.6341)"
      ]
     },
     "execution_count": 171,
     "metadata": {},
     "output_type": "execute_result"
    }
   ],
   "source": [
    "torch.mean((features - decoded) ** 2)"
   ]
  },
  {
   "cell_type": "code",
   "execution_count": 172,
   "id": "d2b4cc42",
   "metadata": {},
   "outputs": [
    {
     "data": {
      "text/plain": [
       "tensor(1.3232)"
      ]
     },
     "execution_count": 172,
     "metadata": {},
     "output_type": "execute_result"
    }
   ],
   "source": [
    "torch.mean((features - (torch.rand((features.size(0), 3)) - features.mean(dim=0, keepdim=True))) ** 2)"
   ]
  },
  {
   "cell_type": "code",
   "execution_count": 173,
   "id": "d62cf088",
   "metadata": {},
   "outputs": [
    {
     "data": {
      "text/plain": [
       "tensor([[-0.6691, -0.7962],\n",
       "        [-0.7931, -1.4085],\n",
       "        [-0.7408, -1.8475],\n",
       "        [-0.6792, -1.5846],\n",
       "        [-0.6414, -0.5514],\n",
       "        [-0.7469, -0.7282],\n",
       "        [-0.6458, -1.3977],\n",
       "        [-0.4623, -0.0324],\n",
       "        [-0.4292, -0.0462],\n",
       "        [-0.8171, -1.2449],\n",
       "        [-0.7971, -0.7059],\n",
       "        [-0.8683, -1.2285],\n",
       "        [-0.6303, -0.5310],\n",
       "        [-0.9352, -2.0267],\n",
       "        [-0.4263, -0.3329],\n",
       "        [-0.6097, -0.4961],\n",
       "        [-0.8104, -0.7793],\n",
       "        [-0.8116, -1.3802],\n",
       "        [-0.7331, -0.3776],\n",
       "        [-0.7818, -0.8415],\n",
       "        [-0.6153, -0.8077],\n",
       "        [-0.9280, -1.2214],\n",
       "        [-0.6088, -0.4334],\n",
       "        [-0.5206, -0.4545],\n",
       "        [-0.7189, -0.4877],\n",
       "        [-0.9540, -1.4596],\n",
       "        [-0.7876, -0.8021],\n",
       "        [-0.6333, -0.5156],\n",
       "        [-0.4569, -0.2866],\n",
       "        [-0.9241, -1.3729],\n",
       "        [-0.5752, -0.8409],\n",
       "        [-0.8386, -0.9420],\n",
       "        [-0.8165, -1.1919],\n",
       "        [-0.9732, -1.2994],\n",
       "        [-0.7610, -0.6405],\n",
       "        [-0.8395, -1.2767],\n",
       "        [-0.9348, -1.0989],\n",
       "        [-0.7359, -0.8847],\n",
       "        [-0.5458, -0.3652],\n",
       "        [-0.4523, -0.2302],\n",
       "        [-0.8590, -1.0874],\n",
       "        [-0.6798, -0.9047],\n",
       "        [-0.9683, -1.9493],\n",
       "        [-0.9179, -1.2967],\n",
       "        [-0.7549, -1.1134],\n",
       "        [-0.8927, -1.2942],\n",
       "        [-0.8230, -1.3332],\n",
       "        [-0.9121, -1.0411]])"
      ]
     },
     "execution_count": 173,
     "metadata": {},
     "output_type": "execute_result"
    }
   ],
   "source": [
    "node_embeddings"
   ]
  },
  {
   "cell_type": "code",
   "execution_count": 174,
   "id": "b3da9f83",
   "metadata": {},
   "outputs": [
    {
     "data": {
      "image/png": "[encoded data removed]",
      "text/plain": [
       "<Figure size 800x600 with 1 Axes>"
      ]
     },
     "metadata": {},
     "output_type": "display_data"
    }
   ],
   "source": [
    "x = node_embeddings[:, 0]\n",
    "y = node_embeddings[:, 1]\n",
    "\n",
    "plt.figure(figsize=(8, 6))\n",
    "plt.scatter(x, y, s=30, alpha=0.7, edgecolors=\"k\", c=labels)\n",
    "plt.grid(True)\n",
    "plt.show()"
   ]
  },
  {
   "cell_type": "code",
   "execution_count": 175,
   "id": "aea42aaf",
   "metadata": {},
   "outputs": [
    {
     "data": {
      "image/png": "[encoded data removed]",
      "text/plain": [
       "<Figure size 800x600 with 1 Axes>"
      ]
     },
     "metadata": {},
     "output_type": "display_data"
    }
   ],
   "source": [
    "node_embedded = TSNE(n_components=2, perplexity=5).fit_transform(node_embeddings.cpu().detach().numpy())\n",
    "\n",
    "x = node_embedded[:, 0]\n",
    "y = node_embedded[:, 1]\n",
    "\n",
    "plt.figure(figsize=(8, 6))\n",
    "plt.scatter(x, y, s=30, alpha=0.7, edgecolors=\"k\", c=labels)\n",
    "plt.grid(True)\n",
    "plt.show()"
   ]
  },
  {
   "cell_type": "markdown",
   "id": "6616f3c1",
   "metadata": {},
   "source": [
    "## 10D"
   ]
  },
  {
   "cell_type": "code",
   "execution_count": 183,
   "id": "16dc91b6",
   "metadata": {},
   "outputs": [
    {
     "name": "stdout",
     "output_type": "stream",
     "text": [
      "tensor([13,  6,  1,  4,  6,  4, 12,  9,  4, 12,  9,  3,  7,  3,  9,  1,  8, 19,\n",
      "         9, 13,  4,  5,  5,  8,  6,  6, 11, 13, 10])\n"
     ]
    }
   ],
   "source": [
    "g, features, labels = create_graph(num_dim_features=10, max_distance=3.0)\n",
    "in_degrees = torch.bincount(g.edge_index[1], minlength=g.num_nodes)\n",
    "print(in_degrees)"
   ]
  },
  {
   "cell_type": "code",
   "execution_count": 185,
   "id": "c4209dee",
   "metadata": {},
   "outputs": [
    {
     "data": {
      "image/png": "[encoded data removed]",
      "text/plain": [
       "<Figure size 800x600 with 1 Axes>"
      ]
     },
     "metadata": {},
     "output_type": "display_data"
    }
   ],
   "source": [
    "node_embedded = TSNE(n_components=2, perplexity=5).fit_transform(features)\n",
    "\n",
    "x = node_embedded[:, 0]\n",
    "y = node_embedded[:, 1]\n",
    "\n",
    "plt.figure(figsize=(8, 6))\n",
    "plt.scatter(x, y, s=30, alpha=0.7, edgecolors=\"k\", c=labels)\n",
    "plt.grid(True)\n",
    "plt.show()"
   ]
  },
  {
   "cell_type": "code",
   "execution_count": 192,
   "id": "83fd6599",
   "metadata": {},
   "outputs": [
    {
     "name": "stderr",
     "output_type": "stream",
     "text": [
      "  2%|██▉                                                                                                                                                                                                 | 3/200 [00:00<00:09, 21.81it/s]"
     ]
    },
    {
     "name": "stdout",
     "output_type": "stream",
     "text": [
      "0 748.1207885742188\n",
      "1 747.9237670898438\n",
      "2 747.8162231445312\n",
      "3 747.7401123046875\n",
      "4 747.5792846679688\n"
     ]
    },
    {
     "name": "stderr",
     "output_type": "stream",
     "text": [
      "  4%|████████▊                                                                                                                                                                                           | 9/200 [00:00<00:09, 20.91it/s]"
     ]
    },
    {
     "name": "stdout",
     "output_type": "stream",
     "text": [
      "5 747.496337890625\n",
      "6 747.503662109375\n",
      "7 747.5925903320312\n",
      "8 747.398193359375\n",
      "9 747.3831176757812\n"
     ]
    },
    {
     "name": "stderr",
     "output_type": "stream",
     "text": [
      "  8%|██████████████▋                                                                                                                                                                                    | 15/200 [00:00<00:08, 21.66it/s]"
     ]
    },
    {
     "name": "stdout",
     "output_type": "stream",
     "text": [
      "10 747.2664184570312\n",
      "11 747.2493896484375\n",
      "12 747.1971435546875\n",
      "13 747.2499389648438\n",
      "14 747.1947021484375\n"
     ]
    },
    {
     "name": "stderr",
     "output_type": "stream",
     "text": [
      "  9%|█████████████████▌                                                                                                                                                                                 | 18/200 [00:00<00:08, 22.20it/s]"
     ]
    },
    {
     "name": "stdout",
     "output_type": "stream",
     "text": [
      "15 747.05078125\n",
      "16 747.1105346679688\n",
      "17 747.1392822265625\n",
      "18 747.033447265625\n",
      "19 747.0823364257812\n"
     ]
    },
    {
     "name": "stderr",
     "output_type": "stream",
     "text": [
      " 12%|███████████████████████▍                                                                                                                                                                           | 24/200 [00:01<00:07, 22.40it/s]"
     ]
    },
    {
     "name": "stdout",
     "output_type": "stream",
     "text": [
      "20 747.0730590820312\n",
      "21 747.1889038085938\n",
      "22 747.0989379882812\n",
      "23 747.1770629882812\n",
      "24 747.1875\n"
     ]
    },
    {
     "name": "stderr",
     "output_type": "stream",
     "text": [
      " 15%|█████████████████████████████▎                                                                                                                                                                     | 30/200 [00:01<00:07, 22.45it/s]"
     ]
    },
    {
     "name": "stdout",
     "output_type": "stream",
     "text": [
      "25 747.0469360351562\n",
      "26 747.2037963867188\n",
      "27 747.1270751953125\n",
      "28 747.1204833984375\n",
      "29 747.1800537109375\n"
     ]
    },
    {
     "name": "stderr",
     "output_type": "stream",
     "text": [
      " 16%|████████████████████████████████▏                                                                                                                                                                  | 33/200 [00:01<00:07, 22.12it/s]"
     ]
    },
    {
     "name": "stdout",
     "output_type": "stream",
     "text": [
      "30 746.900390625\n",
      "31 745.9544067382812\n",
      "32 744.4905395507812\n",
      "33 742.5988159179688\n",
      "34 740.4052734375\n"
     ]
    },
    {
     "name": "stderr",
     "output_type": "stream",
     "text": [
      " 20%|██████████████████████████████████████                                                                                                                                                             | 39/200 [00:01<00:07, 22.19it/s]"
     ]
    },
    {
     "name": "stdout",
     "output_type": "stream",
     "text": [
      "35 738.0763549804688\n",
      "36 735.5836791992188\n",
      "37 732.8775634765625\n",
      "38 730.2239379882812\n",
      "39 727.1802368164062\n"
     ]
    },
    {
     "name": "stderr",
     "output_type": "stream",
     "text": [
      " 22%|███████████████████████████████████████████▉                                                                                                                                                       | 45/200 [00:02<00:07, 21.67it/s]"
     ]
    },
    {
     "name": "stdout",
     "output_type": "stream",
     "text": [
      "40 723.98828125\n",
      "41 722.6058349609375\n",
      "42 717.09765625\n",
      "43 716.4854736328125\n",
      "44 713.18408203125\n"
     ]
    },
    {
     "name": "stderr",
     "output_type": "stream",
     "text": [
      " 24%|██████████████████████████████████████████████▊                                                                                                                                                    | 48/200 [00:02<00:06, 22.15it/s]"
     ]
    },
    {
     "name": "stdout",
     "output_type": "stream",
     "text": [
      "45 709.7572021484375\n",
      "46 706.3391723632812\n",
      "47 702.5515747070312\n",
      "48 698.8369140625\n",
      "49 694.7871704101562\n"
     ]
    },
    {
     "name": "stderr",
     "output_type": "stream",
     "text": [
      " 27%|████████████████████████████████████████████████████▋                                                                                                                                              | 54/200 [00:02<00:06, 21.74it/s]"
     ]
    },
    {
     "name": "stdout",
     "output_type": "stream",
     "text": [
      "50 690.6505126953125\n",
      "51 686.24267578125\n",
      "52 681.3753662109375\n",
      "53 676.0404663085938\n",
      "54 670.2913208007812\n"
     ]
    },
    {
     "name": "stderr",
     "output_type": "stream",
     "text": [
      " 30%|██████████████████████████████████████████████████████████▌                                                                                                                                        | 60/200 [00:02<00:06, 21.76it/s]"
     ]
    },
    {
     "name": "stdout",
     "output_type": "stream",
     "text": [
      "55 664.5813598632812\n",
      "56 657.2562255859375\n",
      "57 644.6217041015625\n",
      "58 631.7653198242188\n",
      "59 618.0020141601562\n"
     ]
    },
    {
     "name": "stderr",
     "output_type": "stream",
     "text": [
      " 32%|█████████████████████████████████████████████████████████████▍                                                                                                                                     | 63/200 [00:02<00:06, 21.87it/s]"
     ]
    },
    {
     "name": "stdout",
     "output_type": "stream",
     "text": [
      "60 612.449462890625\n",
      "61 603.2942504882812\n",
      "62 590.5952758789062\n",
      "63 582.9368896484375\n",
      "64 574.4102783203125\n"
     ]
    },
    {
     "name": "stderr",
     "output_type": "stream",
     "text": [
      " 34%|███████████████████████████████████████████████████████████████████▎                                                                                                                               | 69/200 [00:03<00:06, 21.17it/s]"
     ]
    },
    {
     "name": "stdout",
     "output_type": "stream",
     "text": [
      "65 563.6932373046875\n",
      "66 549.43896484375\n",
      "67 538.824951171875\n",
      "68 529.434326171875\n",
      "69 514.5167236328125\n"
     ]
    },
    {
     "name": "stderr",
     "output_type": "stream",
     "text": [
      " 38%|█████████████████████████████████████████████████████████████████████████▏                                                                                                                         | 75/200 [00:03<00:05, 21.20it/s]"
     ]
    },
    {
     "name": "stdout",
     "output_type": "stream",
     "text": [
      "70 500.839599609375\n",
      "71 490.0263671875\n",
      "72 475.8486328125\n",
      "73 461.28448486328125\n",
      "74 449.2524108886719\n"
     ]
    },
    {
     "name": "stderr",
     "output_type": "stream",
     "text": [
      " 39%|████████████████████████████████████████████████████████████████████████████                                                                                                                       | 78/200 [00:03<00:05, 21.18it/s]"
     ]
    },
    {
     "name": "stdout",
     "output_type": "stream",
     "text": [
      "75 434.2877502441406\n",
      "76 419.8243103027344\n",
      "77 406.9723205566406\n",
      "78 391.64739990234375\n",
      "79 376.9180908203125\n"
     ]
    },
    {
     "name": "stderr",
     "output_type": "stream",
     "text": [
      " 42%|█████████████████████████████████████████████████████████████████████████████████▉                                                                                                                 | 84/200 [00:03<00:05, 21.15it/s]"
     ]
    },
    {
     "name": "stdout",
     "output_type": "stream",
     "text": [
      "80 363.84027099609375\n",
      "81 348.1338806152344\n",
      "82 334.2666320800781\n",
      "83 320.0158386230469\n",
      "84 305.8031921386719\n"
     ]
    },
    {
     "name": "stderr",
     "output_type": "stream",
     "text": [
      " 45%|███████████████████████████████████████████████████████████████████████████████████████▊                                                                                                           | 90/200 [00:04<00:05, 21.01it/s]"
     ]
    },
    {
     "name": "stdout",
     "output_type": "stream",
     "text": [
      "85 291.8338623046875\n",
      "86 278.35650634765625\n",
      "87 265.2243957519531\n",
      "88 252.25411987304688\n",
      "89 240.23147583007812\n"
     ]
    },
    {
     "name": "stderr",
     "output_type": "stream",
     "text": [
      " 46%|██████████████████████████████████████████████████████████████████████████████████████████▋                                                                                                        | 93/200 [00:04<00:05, 20.93it/s]"
     ]
    },
    {
     "name": "stdout",
     "output_type": "stream",
     "text": [
      "90 228.44859313964844\n",
      "91 217.73440551757812\n",
      "92 207.56381225585938\n",
      "93 198.39796447753906\n",
      "94 189.76927185058594\n"
     ]
    },
    {
     "name": "stderr",
     "output_type": "stream",
     "text": [
      " 50%|████████████████████████████████████████████████████████████████████████████████████████████████▌                                                                                                  | 99/200 [00:04<00:04, 21.21it/s]"
     ]
    },
    {
     "name": "stdout",
     "output_type": "stream",
     "text": [
      "95 182.08360290527344\n",
      "96 175.0446319580078\n",
      "97 168.91012573242188\n",
      "98 163.84228515625\n",
      "99 159.6678466796875\n"
     ]
    },
    {
     "name": "stderr",
     "output_type": "stream",
     "text": [
      " 52%|█████████████████████████████████████████████████████████████████████████████████████████████████████▊                                                                                            | 105/200 [00:04<00:04, 21.22it/s]"
     ]
    },
    {
     "name": "stdout",
     "output_type": "stream",
     "text": [
      "100 156.24984741210938\n",
      "101 153.59774780273438\n",
      "102 151.23239135742188\n",
      "103 149.6009063720703\n",
      "104 148.80970764160156\n"
     ]
    },
    {
     "name": "stderr",
     "output_type": "stream",
     "text": [
      " 54%|████████████████████████████████████████████████████████████████████████████████████████████████████████▊                                                                                         | 108/200 [00:04<00:04, 21.50it/s]"
     ]
    },
    {
     "name": "stdout",
     "output_type": "stream",
     "text": [
      "105 148.21636962890625\n",
      "106 148.37576293945312\n",
      "107 148.9656982421875\n",
      "108 147.91346740722656\n",
      "109 147.7528076171875\n"
     ]
    },
    {
     "name": "stderr",
     "output_type": "stream",
     "text": [
      " 57%|██████████████████████████████████████████████████████████████████████████████████████████████████████████████▌                                                                                   | 114/200 [00:05<00:04, 20.72it/s]"
     ]
    },
    {
     "name": "stdout",
     "output_type": "stream",
     "text": [
      "110 147.5824432373047\n",
      "111 145.1648406982422\n",
      "112 141.04348754882812\n",
      "113 144.697265625\n",
      "114 135.9402313232422\n"
     ]
    },
    {
     "name": "stderr",
     "output_type": "stream",
     "text": [
      " 60%|████████████████████████████████████████████████████████████████████████████████████████████████████████████████████▍                                                                             | 120/200 [00:05<00:03, 20.86it/s]"
     ]
    },
    {
     "name": "stdout",
     "output_type": "stream",
     "text": [
      "115 135.01873779296875\n",
      "116 125.94120025634766\n",
      "117 141.62069702148438\n",
      "118 150.84213256835938\n",
      "119 140.33123779296875\n"
     ]
    },
    {
     "name": "stderr",
     "output_type": "stream",
     "text": [
      " 62%|███████████████████████████████████████████████████████████████████████████████████████████████████████████████████████▎                                                                          | 123/200 [00:05<00:03, 20.80it/s]"
     ]
    },
    {
     "name": "stdout",
     "output_type": "stream",
     "text": [
      "120 135.7926025390625\n",
      "121 155.06292724609375\n",
      "122 140.40863037109375\n",
      "123 134.6775360107422\n",
      "124 141.36114501953125\n"
     ]
    },
    {
     "name": "stderr",
     "output_type": "stream",
     "text": [
      " 64%|█████████████████████████████████████████████████████████████████████████████████████████████████████████████████████████████▏                                                                    | 129/200 [00:06<00:03, 20.49it/s]"
     ]
    },
    {
     "name": "stdout",
     "output_type": "stream",
     "text": [
      "125 138.64500427246094\n",
      "126 131.5277557373047\n",
      "127 127.28407287597656\n",
      "128 132.3378143310547\n",
      "129 129.96490478515625\n"
     ]
    },
    {
     "name": "stderr",
     "output_type": "stream",
     "text": [
      " 68%|██████████████████████████████████████████████████████████████████████████████████████████████████████████████████████████████████▉                                                               | 135/200 [00:06<00:02, 22.05it/s]"
     ]
    },
    {
     "name": "stdout",
     "output_type": "stream",
     "text": [
      "130 120.16976928710938\n",
      "131 113.9825210571289\n",
      "132 107.12973022460938\n",
      "133 99.49248504638672\n",
      "134 91.95636749267578\n"
     ]
    },
    {
     "name": "stderr",
     "output_type": "stream",
     "text": [
      " 69%|█████████████████████████████████████████████████████████████████████████████████████████████████████████████████████████████████████▊                                                            | 138/200 [00:06<00:02, 22.46it/s]"
     ]
    },
    {
     "name": "stdout",
     "output_type": "stream",
     "text": [
      "135 90.56892395019531\n",
      "136 94.63882446289062\n",
      "137 94.0235824584961\n",
      "138 87.97870635986328\n",
      "139 87.52814483642578\n"
     ]
    },
    {
     "name": "stderr",
     "output_type": "stream",
     "text": [
      " 72%|███████████████████████████████████████████████████████████████████████████████████████████████████████████████████████████████████████████▋                                                      | 144/200 [00:06<00:02, 22.44it/s]"
     ]
    },
    {
     "name": "stdout",
     "output_type": "stream",
     "text": [
      "140 88.36566162109375\n",
      "141 87.13433837890625\n",
      "142 84.69683837890625\n",
      "143 83.34370422363281\n",
      "144 83.6134262084961\n"
     ]
    },
    {
     "name": "stderr",
     "output_type": "stream",
     "text": [
      " 75%|█████████████████████████████████████████████████████████████████████████████████████████████████████████████████████████████████████████████████▌                                                | 150/200 [00:06<00:02, 22.90it/s]"
     ]
    },
    {
     "name": "stdout",
     "output_type": "stream",
     "text": [
      "145 84.63153076171875\n",
      "146 84.27316284179688\n",
      "147 82.41069030761719\n",
      "148 80.08905029296875\n",
      "149 78.38025665283203\n"
     ]
    },
    {
     "name": "stderr",
     "output_type": "stream",
     "text": [
      " 76%|████████████████████████████████████████████████████████████████████████████████████████████████████████████████████████████████████████████████████▍                                             | 153/200 [00:07<00:02, 23.09it/s]"
     ]
    },
    {
     "name": "stdout",
     "output_type": "stream",
     "text": [
      "150 78.19440460205078\n",
      "151 78.490966796875\n",
      "152 78.18436431884766\n",
      "153 75.89292907714844\n",
      "154 74.24644470214844\n"
     ]
    },
    {
     "name": "stderr",
     "output_type": "stream",
     "text": [
      " 80%|██████████████████████████████████████████████████████████████████████████████████████████████████████████████████████████████████████████████████████████▏                                       | 159/200 [00:07<00:01, 23.31it/s]"
     ]
    },
    {
     "name": "stdout",
     "output_type": "stream",
     "text": [
      "155 74.78899383544922\n",
      "156 75.4336929321289\n",
      "157 73.75440216064453\n",
      "158 72.00201416015625\n",
      "159 71.67195129394531\n"
     ]
    },
    {
     "name": "stderr",
     "output_type": "stream",
     "text": [
      " 82%|████████████████████████████████████████████████████████████████████████████████████████████████████████████████████████████████████████████████████████████████                                  | 165/200 [00:07<00:01, 22.57it/s]"
     ]
    },
    {
     "name": "stdout",
     "output_type": "stream",
     "text": [
      "160 71.70986938476562\n",
      "161 71.09270477294922\n",
      "162 70.02693176269531\n",
      "163 70.241943359375\n",
      "164 70.37641906738281\n"
     ]
    },
    {
     "name": "stderr",
     "output_type": "stream",
     "text": [
      " 84%|██████████████████████████████████████████████████████████████████████████████████████████████████████████████████████████████████████████████████████████████████▉                               | 168/200 [00:07<00:01, 22.66it/s]"
     ]
    },
    {
     "name": "stdout",
     "output_type": "stream",
     "text": [
      "165 70.43452453613281\n",
      "166 70.02896118164062\n",
      "167 69.57456970214844\n",
      "168 69.8836441040039\n",
      "169 69.8364028930664\n"
     ]
    },
    {
     "name": "stderr",
     "output_type": "stream",
     "text": [
      " 87%|████████████████████████████████████████████████████████████████████████████████████████████████████████████████████████████████████████████████████████████████████████▊                         | 174/200 [00:07<00:01, 23.03it/s]"
     ]
    },
    {
     "name": "stdout",
     "output_type": "stream",
     "text": [
      "170 69.31078338623047\n",
      "171 68.96160125732422\n",
      "172 69.13581085205078\n",
      "173 68.95581817626953\n",
      "174 68.62796783447266\n"
     ]
    },
    {
     "name": "stderr",
     "output_type": "stream",
     "text": [
      " 90%|██████████████████████████████████████████████████████████████████████████████████████████████████████████████████████████████████████████████████████████████████████████████▌                   | 180/200 [00:08<00:00, 22.54it/s]"
     ]
    },
    {
     "name": "stdout",
     "output_type": "stream",
     "text": [
      "175 68.35917663574219\n",
      "176 68.42253112792969\n",
      "177 68.4556655883789\n",
      "178 68.34651184082031\n",
      "179 68.19337463378906\n"
     ]
    },
    {
     "name": "stderr",
     "output_type": "stream",
     "text": [
      " 92%|█████████████████████████████████████████████████████████████████████████████████████████████████████████████████████████████████████████████████████████████████████████████████▌                | 183/200 [00:08<00:00, 22.19it/s]"
     ]
    },
    {
     "name": "stdout",
     "output_type": "stream",
     "text": [
      "180 68.15662384033203\n",
      "181 68.0380630493164\n",
      "182 67.87529754638672\n",
      "183 67.65876770019531\n",
      "184 67.75154113769531\n"
     ]
    },
    {
     "name": "stderr",
     "output_type": "stream",
     "text": [
      " 94%|███████████████████████████████████████████████████████████████████████████████████████████████████████████████████████████████████████████████████████████████████████████████████████▎          | 189/200 [00:08<00:00, 21.64it/s]"
     ]
    },
    {
     "name": "stdout",
     "output_type": "stream",
     "text": [
      "185 67.64629364013672\n",
      "186 67.3724365234375\n",
      "187 67.29479217529297\n",
      "188 67.31734466552734\n",
      "189 67.33809661865234\n"
     ]
    },
    {
     "name": "stderr",
     "output_type": "stream",
     "text": [
      " 98%|█████████████████████████████████████████████████████████████████████████████████████████████████████████████████████████████████████████████████████████████████████████████████████████████▏    | 195/200 [00:08<00:00, 21.17it/s]"
     ]
    },
    {
     "name": "stdout",
     "output_type": "stream",
     "text": [
      "190 67.10211944580078\n",
      "191 66.98799133300781\n",
      "192 67.01339721679688\n",
      "193 66.83650207519531\n",
      "194 65.02880096435547\n"
     ]
    },
    {
     "name": "stderr",
     "output_type": "stream",
     "text": [
      "100%|██████████████████████████████████████████████████████████████████████████████████████████████████████████████████████████████████████████████████████████████████████████████████████████████████| 200/200 [00:09<00:00, 21.77it/s]"
     ]
    },
    {
     "name": "stdout",
     "output_type": "stream",
     "text": [
      "195 62.394996643066406\n",
      "196 59.45298385620117\n",
      "197 50.878929138183594\n",
      "198 37.76605224609375\n",
      "199 57.377140045166016\n"
     ]
    },
    {
     "name": "stderr",
     "output_type": "stream",
     "text": [
      "\n"
     ]
    }
   ],
   "source": [
    "# device = torch.device(\"cuda\" if torch.cuda.is_available() else \"cpu\")\n",
    "# GPU not working as torch installed via pip does not fully support RTX 5090\n",
    "device = torch.device(\"cpu\")\n",
    "\n",
    "lr = 0.003\n",
    "epoch_num = 200\n",
    "lambda_loss1 = 1e-2\n",
    "lambda_loss2 = 1\n",
    "encoder = \"GCN\"\n",
    "sample_size = 3\n",
    "\n",
    "hidden_dim = 2\n",
    "\n",
    "g = g.to(device)\n",
    "\n",
    "node_embeddings, loss, decoded = train(g, features, in_degrees, lr=lr, epoch=epoch_num, device=device, encoder=encoder, lambda_loss1=lambda_loss1, lambda_loss2=lambda_loss2, sample_size=sample_size, hidden_dim=hidden_dim)"
   ]
  },
  {
   "cell_type": "code",
   "execution_count": 193,
   "id": "dc973f60",
   "metadata": {},
   "outputs": [
    {
     "data": {
      "text/plain": [
       "tensor(0.8386)"
      ]
     },
     "execution_count": 193,
     "metadata": {},
     "output_type": "execute_result"
    }
   ],
   "source": [
    "torch.mean((features - decoded) ** 2)"
   ]
  },
  {
   "cell_type": "code",
   "execution_count": 194,
   "id": "f2a0f47e",
   "metadata": {},
   "outputs": [
    {
     "data": {
      "text/plain": [
       "tensor(1.5096)"
      ]
     },
     "execution_count": 194,
     "metadata": {},
     "output_type": "execute_result"
    }
   ],
   "source": [
    "torch.mean((features - (torch.rand((features.size(0), 10)) - features.mean(dim=0, keepdim=True))) ** 2)"
   ]
  },
  {
   "cell_type": "code",
   "execution_count": 195,
   "id": "f123960d",
   "metadata": {},
   "outputs": [
    {
     "name": "stdout",
     "output_type": "stream",
     "text": [
      "tensor([[13.1004,  3.8614],\n",
      "        [ 1.7510, -0.2013],\n",
      "        [10.0023,  3.4285],\n",
      "        [10.1542,  3.4776],\n",
      "        [ 1.8918, -0.6388],\n",
      "        [ 0.3745, -1.2422],\n",
      "        [ 2.5560, -0.8359],\n",
      "        [ 5.9101,  1.0526],\n",
      "        [13.5064,  4.5609],\n",
      "        [ 2.6396, -0.7500],\n",
      "        [13.3368,  4.3964],\n",
      "        [ 0.3530, -1.1339],\n",
      "        [ 0.4425, -1.5851],\n",
      "        [ 0.4093, -1.4178],\n",
      "        [14.9836,  4.9286],\n",
      "        [11.4913,  3.9097],\n",
      "        [ 1.5885, -0.9343],\n",
      "        [ 5.8510,  0.0198],\n",
      "        [ 2.7835, -0.3840],\n",
      "        [ 2.7318, -0.9708],\n",
      "        [11.0370,  3.7629],\n",
      "        [10.7794,  3.6797],\n",
      "        [10.7807,  3.6801],\n",
      "        [12.6779,  4.0935],\n",
      "        [ 0.4322, -1.5332],\n",
      "        [ 0.3935, -1.3380],\n",
      "        [15.1515,  4.9924],\n",
      "        [ 2.5822, -0.8937],\n",
      "        [ 8.3582,  2.2787]])\n"
     ]
    },
    {
     "data": {
      "image/png": "[encoded data removed]",
      "text/plain": [
       "<Figure size 800x600 with 1 Axes>"
      ]
     },
     "metadata": {},
     "output_type": "display_data"
    }
   ],
   "source": [
    "print(node_embeddings)\n",
    "\n",
    "x = node_embeddings[:, 0]\n",
    "y = node_embeddings[:, 1]\n",
    "\n",
    "plt.figure(figsize=(8, 6))\n",
    "plt.scatter(x, y, s=30, alpha=0.7, edgecolors=\"k\", c=labels)\n",
    "plt.grid(True)\n",
    "plt.show()"
   ]
  },
  {
   "cell_type": "code",
   "execution_count": 196,
   "id": "0e60387a",
   "metadata": {},
   "outputs": [
    {
     "data": {
      "image/png": "[encoded data removed]",
      "text/plain": [
       "<Figure size 800x600 with 1 Axes>"
      ]
     },
     "metadata": {},
     "output_type": "display_data"
    }
   ],
   "source": [
    "node_embedded = TSNE(n_components=2, perplexity=5).fit_transform(node_embeddings.cpu().detach().numpy())\n",
    "\n",
    "x = node_embedded[:, 0]\n",
    "y = node_embedded[:, 1]\n",
    "\n",
    "plt.figure(figsize=(8, 6))\n",
    "plt.scatter(x, y, s=30, alpha=0.7, edgecolors=\"k\", c=labels)\n",
    "plt.grid(True)\n",
    "plt.show()"
   ]
  },
  {
   "cell_type": "code",
   "execution_count": null,
   "id": "6881e061",
   "metadata": {},
   "outputs": [],
   "source": []
  },
  {
   "cell_type": "code",
   "execution_count": null,
   "id": "928d0c95",
   "metadata": {},
   "outputs": [],
   "source": []
  },
  {
   "cell_type": "code",
   "execution_count": null,
   "id": "eb4021f5",
   "metadata": {},
   "outputs": [],
   "source": []
  },
  {
   "cell_type": "code",
   "execution_count": null,
   "id": "75f44ed8",
   "metadata": {},
   "outputs": [],
   "source": []
  },
  {
   "cell_type": "code",
   "execution_count": null,
   "id": "6f923d43",
   "metadata": {},
   "outputs": [],
   "source": []
  },
  {
   "cell_type": "code",
   "execution_count": null,
   "id": "54729771",
   "metadata": {},
   "outputs": [],
   "source": [
    "# def train_new_datasets(epoch_num=10, lr=5e-6, encoder=\"GCN\", lambda_loss1=1e-4, lambda_loss2=1, sample_size=10, hidden_dim=None):\n",
    "#     device = torch.device(\"cuda\" if torch.cuda.is_available() else \"cpu\")\n",
    "\n",
    "#     g, labels = utils.read_real_datasets(dataset_str)\n",
    "#     g = g.to(device)\n",
    "\n",
    "#     node_labels = labels\n",
    "#     # attr, feat\n",
    "#     if hidden_dim == None:\n",
    "#         hidden_dim = g.ndata[\"attr\"].shape[1]\n",
    "#     else:\n",
    "#         hidden_dim = hidden_dim\n",
    "\n",
    "#     acc = []\n",
    "#     for index in range(5):\n",
    "#         node_embeddings, loss = train(g, g.ndata[\"attr\"], lr=lr, epoch=epoch_num, device=device, encoder=encoder, lambda_loss1=lambda_loss1, lambda_loss2=lambda_loss2, sample_size=sample_size, hidden_dim=hidden_dim)\n",
    "#         input_dims = node_embeddings.shape\n",
    "#         print(input_dims[1])\n",
    "\n",
    "#         FNN = MLP(num_layers=4, input_dim=input_dims[1], hidden_dim=input_dims[1] // 2, output_dim=class_number).to(device)\n",
    "#         FNN = FNN.to(device)\n",
    "\n",
    "#         criterion = torch.nn.CrossEntropyLoss()\n",
    "#         optimizer = torch.optim.Adam(FNN.parameters())\n",
    "\n",
    "#         dataset = NodeClassificationDataset(node_embeddings, node_labels)\n",
    "#         split = utils.DataSplit(dataset, shuffle=True)\n",
    "#         train_loader, val_loader, test_loader = split.get_split(batch_size=64, num_workers=0)\n",
    "#         # train_loader = DataLoader(dataset=dataset, batch_size=32, shuffle=True)\n",
    "#         best = -float(\"inf\")\n",
    "#         for epoch in range(50):\n",
    "#             for i, data in enumerate(train_loader, 0):\n",
    "#                 # data = data.to(device)\n",
    "#                 inputs, labels = data\n",
    "#                 inputs = inputs.to(device)\n",
    "#                 labels = labels.to(device)\n",
    "#                 y_pred = FNN(inputs)\n",
    "#                 loss = criterion(y_pred, labels)\n",
    "#                 # train_loss = loss\n",
    "#                 print(epoch, i, loss.item())\n",
    "#                 optimizer.zero_grad()\n",
    "#                 loss.backward()\n",
    "#                 optimizer.step()\n",
    "\n",
    "#                 with torch.no_grad():\n",
    "#                     correct = 0\n",
    "#                     total = 0\n",
    "#                     for data in val_loader:\n",
    "#                         inputs, labels = data\n",
    "#                         inputs = inputs.to(device)\n",
    "#                         labels = labels.to(device)\n",
    "#                         outputs = FNN(inputs)\n",
    "#                         _, predicted = torch.max(outputs.data, 1)\n",
    "#                         loss = criterion(outputs, labels)\n",
    "#                         total += labels.size(0)\n",
    "#                         correct += torch.sum(predicted == labels)\n",
    "#                 if correct / total > best:\n",
    "#                     best = correct / total\n",
    "#                     torch.save(FNN.state_dict(), \"best_mlp_{}.pkl\".format(index))\n",
    "#                 print(str(epoch), correct / total)\n",
    "\n",
    "#         with torch.no_grad():\n",
    "#             FNN.load_state_dict(torch.load(\"best_mlp_{}.pkl\".format(index)))\n",
    "#             correct = 0\n",
    "#             total = 0\n",
    "#             for data in test_loader:\n",
    "#                 inputs, labels = data\n",
    "#                 inputs = inputs.to(device)\n",
    "#                 labels = labels.to(device)\n",
    "#                 outputs = FNN(inputs)\n",
    "#                 _, predicted = torch.max(outputs.data, 1)\n",
    "#                 total += labels.size(0)\n",
    "#                 correct += torch.sum(predicted == labels)\n",
    "#         print((correct / total).item())\n",
    "#         acc.append((correct / total).item())\n",
    "\n",
    "#     print(\"mean:\")\n",
    "#     print(statistics.mean(acc))\n",
    "#     print(\"std:\")\n",
    "#     print(statistics.stdev(acc))"
   ]
  },
  {
   "cell_type": "code",
   "execution_count": null,
   "id": "4f449fa0",
   "metadata": {},
   "outputs": [],
   "source": [
    "# train_new_datasets(lr=5e-7, epoch_num=50, lambda_loss1=1e-2, lambda_loss2=1, encoder=\"GCN\", sample_size=5, hidden_dim=512)"
   ]
  }
 ],
 "metadata": {
  "kernelspec": {
   "display_name": "Python 3 (ipykernel)",
   "language": "python",
   "name": "python3"
  },
  "language_info": {
   "codemirror_mode": {
    "name": "ipython",
    "version": 3
   },
   "file_extension": ".py",
   "mimetype": "text/x-python",
   "name": "python",
   "nbconvert_exporter": "python",
   "pygments_lexer": "ipython3",
   "version": "3.10.12"
  }
 },
 "nbformat": 4,
 "nbformat_minor": 5
}
